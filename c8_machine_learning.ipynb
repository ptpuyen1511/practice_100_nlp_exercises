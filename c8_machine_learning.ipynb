{
 "cells": [
  {
   "cell_type": "markdown",
   "metadata": {},
   "source": [
    "# Chương 8: Machine Learning\n",
    "Chương này yêu cầu bạn thực hiện bài toán sentiment analysis trên corpus sentence polarity dataset v1.0 trong Moview Review Data của tác giả Bo Pang và Lillian Lee. Yêu cầu của bài toán sentiment analysis là phân loại các câu thành positive và negative sentiments."
   ]
  },
  {
   "cell_type": "markdown",
   "metadata": {},
   "source": [
    "# 70. Download và tiền xử lý dữ liệu\n",
    "Sử dụng dữ liệu liên quan đến sentiment polarity của các câu (download tại đây), tạo dữ liệu chuẩn hoá (sentiment.txt) theo hướng dẫn dưới đây.\n",
    "\n",
    "1. Thêm vào '+1' ở bắt đầu các dòng trong file rt-polarity.pos (giữa +1 và nội dung của câu cách nhau bởi ký tự trắng).\n",
    "\n",
    "2. Thêm vào '-1' ở bắt đầu các dòng trong file rt-polarity.neg (giữa -1 và nội dung của câu cách nhau bởi ký tự trắng).\n",
    "\n",
    "3. Kết hợp nội dung thu được trong phần 1 và 2 để tạo thành file sentiment.txt\n",
    "\n",
    "Sau khi đã thu được file sentiment.txt, xác nhận số lượng các câu với positive polarity và các câu với negative polarity."
   ]
  },
  {
   "cell_type": "code",
   "execution_count": 2,
   "metadata": {},
   "outputs": [],
   "source": [
    "# Read files\n",
    "with open('rt-polaritydata/rt-polaritydata/rt-polarity.pos', 'r') as f:\n",
    "    pos = f.readlines()\n",
    "    \n",
    "with open('rt-polaritydata/rt-polaritydata/rt-polarity.neg', 'r') as f:\n",
    "    neg = f.readlines()"
   ]
  },
  {
   "cell_type": "code",
   "execution_count": 6,
   "metadata": {},
   "outputs": [],
   "source": [
    "# Create sentiment.txt\n",
    "with open('sentiment.txt', 'w') as f:\n",
    "    for line in pos:\n",
    "        f.write('+1 ' + line)\n",
    "    \n",
    "    for line in neg:\n",
    "        f.write('-1 ' + line)"
   ]
  },
  {
   "cell_type": "code",
   "execution_count": 7,
   "metadata": {},
   "outputs": [
    {
     "name": "stdout",
     "output_type": "stream",
     "text": [
      "10662\n",
      "Pos sentence: +1 the rock is destined to be the 21st century's new \" conan \" and that he's going to make a splash even greater than arnold schwarzenegger , jean-claud van damme or steven segal . \n",
      "\n",
      "Neg sentence: -1 enigma is well-made , but it's just too dry and too placid . \n",
      "\n"
     ]
    }
   ],
   "source": [
    "# Check sentiment.txt\n",
    "with open('sentiment.txt', 'r') as f:\n",
    "    sentiment_data = f.readlines()\n",
    "    \n",
    "print(len(sentiment_data))\n",
    "print('Pos sentence: ' + sentiment_data[0])\n",
    "print('Neg sentence: ' + sentiment_data[-1])"
   ]
  },
  {
   "cell_type": "code",
   "execution_count": null,
   "metadata": {},
   "outputs": [],
   "source": []
  }
 ],
 "metadata": {
  "kernelspec": {
   "display_name": "Python 3",
   "language": "python",
   "name": "python3"
  },
  "language_info": {
   "codemirror_mode": {
    "name": "ipython",
    "version": 3
   },
   "file_extension": ".py",
   "mimetype": "text/x-python",
   "name": "python",
   "nbconvert_exporter": "python",
   "pygments_lexer": "ipython3",
   "version": "3.6.8"
  }
 },
 "nbformat": 4,
 "nbformat_minor": 4
}
