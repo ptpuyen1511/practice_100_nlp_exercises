{
 "cells": [
  {
   "cell_type": "markdown",
   "metadata": {},
   "source": [
    "# 00. Đảo ngược xâu ký tự\n",
    "\n",
    "Hãy đảo ngược xâu ký tự \"stressed\" (theo thứ tự từ cuối xâu đến đầu xâu ký tự)."
   ]
  },
  {
   "cell_type": "code",
   "execution_count": 1,
   "metadata": {},
   "outputs": [
    {
     "name": "stdout",
     "output_type": "stream",
     "text": [
      "desserts\n"
     ]
    }
   ],
   "source": [
    "s = 'stressed'\n",
    "\n",
    "print(s[::-1])"
   ]
  },
  {
   "cell_type": "markdown",
   "metadata": {},
   "source": [
    "# 01. Trích xuất ký tự từ xâu ký tự\n",
    "Từ xâu ký tự \"MPyaktQrBoilk RCSahr\", hãy trích xuất các ký tự ở vị trí 2,4,6,8,10,12,14,16,18,20 và kết hợp theo thứ tự đó để tạo thành 1 xâu ký tự mới (ký tự space cũng được tính, các ký tự được đánh số từ 1)."
   ]
  },
  {
   "cell_type": "code",
   "execution_count": 10,
   "metadata": {},
   "outputs": [
    {
     "data": {
      "text/plain": [
       "'Patrol Car'"
      ]
     },
     "execution_count": 10,
     "metadata": {},
     "output_type": "execute_result"
    }
   ],
   "source": [
    "s = 'MPyaktQrBoilk RCSahr'\n",
    "\n",
    "s = ''.join([c for i,c in enumerate(s) if i % 2 != 0])\n",
    "\n",
    "s"
   ]
  },
  {
   "cell_type": "markdown",
   "metadata": {},
   "source": [
    "# 02. Kết hợp hai xâu ký tự\n",
    "Hãy kết hợp hai xâu ký tự \"Partrol\" và \"Car\" để tạo thành xâu mới \"PatrolCar\"."
   ]
  },
  {
   "cell_type": "code",
   "execution_count": 11,
   "metadata": {},
   "outputs": [
    {
     "data": {
      "text/plain": [
       "'PartrolCar'"
      ]
     },
     "execution_count": 11,
     "metadata": {},
     "output_type": "execute_result"
    }
   ],
   "source": [
    "s1 = 'Partrol'\n",
    "s2 = 'Car'\n",
    "\n",
    "s = s1 + s2\n",
    "s"
   ]
  },
  {
   "cell_type": "markdown",
   "metadata": {},
   "source": [
    "# 03. Tokenize và thống kê số lượng ký tự của mỗi từ\n",
    "\n",
    "1. Tokenize câu sau: \"Now I need a drink, alcoholic of course, after the heavy lectures involving quantum mechanics.\"\n",
    "\n",
    "2. Đưa ra danh sách gồm số ký tự alphabet trong mỗi từ theo thứ tự xuất hiện của từ đó trong câu."
   ]
  },
  {
   "cell_type": "code",
   "execution_count": 23,
   "metadata": {},
   "outputs": [
    {
     "data": {
      "text/plain": [
       "['Now',\n",
       " 'I',\n",
       " 'need',\n",
       " 'a',\n",
       " 'drink',\n",
       " 'alcoholic',\n",
       " 'of',\n",
       " 'course',\n",
       " 'after',\n",
       " 'the',\n",
       " 'heavy',\n",
       " 'lectures',\n",
       " 'involving',\n",
       " 'quantum',\n",
       " 'mechanics']"
      ]
     },
     "execution_count": 23,
     "metadata": {},
     "output_type": "execute_result"
    }
   ],
   "source": [
    "# 1. Tokenize\n",
    "import re\n",
    "\n",
    "s = 'Now I need a drink, alcoholic of course, after the heavy lectures involving quantum mechanics.'\n",
    "list_tokens = re.split(r'[ ,.]', s)\n",
    "\n",
    "list_tokens = list(filter(lambda t: t != '', list_tokens))\n",
    "\n",
    "list_tokens"
   ]
  },
  {
   "cell_type": "code",
   "execution_count": 29,
   "metadata": {},
   "outputs": [
    {
     "name": "stdout",
     "output_type": "stream",
     "text": [
      "Now --> {'N': 1, 'o': 1, 'w': 1}\n",
      "-------------------------------------------\n",
      "I --> {'I': 1}\n",
      "-------------------------------------------\n",
      "need --> {'n': 1, 'e': 2, 'd': 1}\n",
      "-------------------------------------------\n",
      "a --> {'a': 1}\n",
      "-------------------------------------------\n",
      "drink --> {'d': 1, 'r': 1, 'i': 1, 'n': 1, 'k': 1}\n",
      "-------------------------------------------\n",
      "alcoholic --> {'a': 1, 'l': 2, 'c': 2, 'o': 2, 'h': 1, 'i': 1}\n",
      "-------------------------------------------\n",
      "of --> {'o': 1, 'f': 1}\n",
      "-------------------------------------------\n",
      "course --> {'c': 1, 'o': 1, 'u': 1, 'r': 1, 's': 1, 'e': 1}\n",
      "-------------------------------------------\n",
      "after --> {'a': 1, 'f': 1, 't': 1, 'e': 1, 'r': 1}\n",
      "-------------------------------------------\n",
      "the --> {'t': 1, 'h': 1, 'e': 1}\n",
      "-------------------------------------------\n",
      "heavy --> {'h': 1, 'e': 1, 'a': 1, 'v': 1, 'y': 1}\n",
      "-------------------------------------------\n",
      "lectures --> {'l': 1, 'e': 2, 'c': 1, 't': 1, 'u': 1, 'r': 1, 's': 1}\n",
      "-------------------------------------------\n",
      "involving --> {'i': 2, 'n': 2, 'v': 2, 'o': 1, 'l': 1, 'g': 1}\n",
      "-------------------------------------------\n",
      "quantum --> {'q': 1, 'u': 2, 'a': 1, 'n': 1, 't': 1, 'm': 1}\n",
      "-------------------------------------------\n",
      "mechanics --> {'m': 1, 'e': 1, 'c': 2, 'h': 1, 'a': 1, 'n': 1, 'i': 1, 's': 1}\n",
      "-------------------------------------------\n"
     ]
    }
   ],
   "source": [
    "# 2\n",
    "from collections import Counter\n",
    "\n",
    "for t in list_tokens:\n",
    "    t_count_char = dict(Counter(t))\n",
    "    print(t + ' --> ', end='')\n",
    "    print(t_count_char)\n",
    "    print('-------------------------------------------')"
   ]
  },
  {
   "cell_type": "markdown",
   "metadata": {},
   "source": [
    "# 04. Ký tự thành phần\n",
    "\n",
    "1. Tokenize câu sau: \"Hi He Lied Because Boron Could Not Oxidize Fluorine. New Nations Might Also Sign Peace Security Clause. Arthur King Can.\"\n",
    "\n",
    "2. Lấy ra ký tự đầu tiên của các từ ở vị trí 1, 5, 6, 7, 8, 9, 15, 16, 19; với các từ còn lại lấy ra 2 ký tự đầu tiên. Tạo ra một map từ các xâu ký tự được trích ra tới vị trí của từ trong câu.\n",
    "\n"
   ]
  },
  {
   "cell_type": "code",
   "execution_count": 30,
   "metadata": {},
   "outputs": [
    {
     "data": {
      "text/plain": [
       "['Hi',\n",
       " 'He',\n",
       " 'Lied',\n",
       " 'Because',\n",
       " 'Boron',\n",
       " 'Could',\n",
       " 'Not',\n",
       " 'Oxidize',\n",
       " 'Fluorine',\n",
       " 'New',\n",
       " 'Nations',\n",
       " 'Might',\n",
       " 'Also',\n",
       " 'Sign',\n",
       " 'Peace',\n",
       " 'Security',\n",
       " 'Clause',\n",
       " 'Arthur',\n",
       " 'King',\n",
       " 'Can']"
      ]
     },
     "execution_count": 30,
     "metadata": {},
     "output_type": "execute_result"
    }
   ],
   "source": [
    "# 1. Tokenize\n",
    "\n",
    "s = 'Hi He Lied Because Boron Could Not Oxidize Fluorine. New Nations Might Also Sign Peace Security Clause. Arthur King Can.'\n",
    "list_tokens = re.split(r'[ ,.]', s)\n",
    "\n",
    "list_tokens = list(filter(lambda t: t != '', list_tokens))\n",
    "\n",
    "list_tokens"
   ]
  },
  {
   "cell_type": "code",
   "execution_count": 31,
   "metadata": {},
   "outputs": [
    {
     "data": {
      "text/plain": [
       "{'H': 1,\n",
       " 'He': 2,\n",
       " 'Li': 3,\n",
       " 'Be': 4,\n",
       " 'B': 5,\n",
       " 'C': 6,\n",
       " 'N': 7,\n",
       " 'O': 8,\n",
       " 'F': 9,\n",
       " 'Ne': 10,\n",
       " 'Na': 11,\n",
       " 'Mi': 12,\n",
       " 'Al': 13,\n",
       " 'Si': 14,\n",
       " 'P': 15,\n",
       " 'S': 16,\n",
       " 'Cl': 17,\n",
       " 'Ar': 18,\n",
       " 'K': 19,\n",
       " 'Ca': 20}"
      ]
     },
     "execution_count": 31,
     "metadata": {},
     "output_type": "execute_result"
    }
   ],
   "source": [
    "# 2\n",
    "idx_array = [1, 5, 6, 7, 8, 9, 15, 16, 19]\n",
    "\n",
    "map_sub_s = {}\n",
    "\n",
    "for i,t in enumerate(list_tokens):\n",
    "    if (i + 1) in idx_array:\n",
    "        map_sub_s[t[0]] = i + 1\n",
    "    else:\n",
    "        map_sub_s[t[:2]] = i + 1\n",
    "        \n",
    "map_sub_s"
   ]
  },
  {
   "cell_type": "code",
   "execution_count": null,
   "metadata": {},
   "outputs": [],
   "source": []
  }
 ],
 "metadata": {
  "kernelspec": {
   "display_name": "Python 3",
   "language": "python",
   "name": "python3"
  },
  "language_info": {
   "codemirror_mode": {
    "name": "ipython",
    "version": 3
   },
   "file_extension": ".py",
   "mimetype": "text/x-python",
   "name": "python",
   "nbconvert_exporter": "python",
   "pygments_lexer": "ipython3",
   "version": "3.6.8"
  }
 },
 "nbformat": 4,
 "nbformat_minor": 4
}
