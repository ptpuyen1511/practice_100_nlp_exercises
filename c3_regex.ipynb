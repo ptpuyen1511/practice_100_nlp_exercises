{
 "cells": [
  {
   "cell_type": "markdown",
   "metadata": {},
   "source": [
    "# Chương 3: Biểu thức chính quy (regular expressions)\n",
    "Bài tập trong chương 3 sử dụng file jawiki-country.json.gz. File này lưu trữ các tài liệu Wikipedia và có định dạng sau đây.\n",
    "\n",
    "* Dòng thứ nhất lưu trữ thông tin về tài liệu dưới định dạng JSON.\n",
    "* Ở các dòng tiếp theo, dòng tiêu đề của văn bản được lưu trữ tại khoá \"title\"; nội dung của tài liệu được lưu trữ tại khoá \"text\". Các dòng này được lưu trữ ở định dạng JSON.\n",
    "\n",
    "Lập trình để xử lý các việc sau đây."
   ]
  },
  {
   "cell_type": "markdown",
   "metadata": {},
   "source": [
    "# 20. Đọc vào dữ liệu JSON\n",
    "Đọc dữ liệu từ file JSON chứa các tài liệu Wikipedia, trích xuất & hiển thị nội dung của tài liệu (trường text của JSON object) có liên quan đến \"イギリス\" (có nghĩa là nước Anh). Sử dụng các nội dung của tài liệu được trích xuất này để thực thi các nhiệm vụ trong các bài tập từ 21-29."
   ]
  },
  {
   "cell_type": "code",
   "execution_count": 1,
   "metadata": {},
   "outputs": [],
   "source": [
    "import json"
   ]
  },
  {
   "cell_type": "code",
   "execution_count": 44,
   "metadata": {},
   "outputs": [],
   "source": [
    "# Read JSON\n",
    "pages = [json.loads(l) for l in list(open('jawiki-country.json', encoding='utf8'))]"
   ]
  },
  {
   "cell_type": "code",
   "execution_count": 46,
   "metadata": {},
   "outputs": [
    {
     "data": {
      "text/plain": [
       "3844566"
      ]
     },
     "execution_count": 46,
     "metadata": {},
     "output_type": "execute_result"
    }
   ],
   "source": [
    "# Dumps JSON\n",
    "open('jawiki-country-uk-data.json', 'w', encoding='utf8').write(json.dumps([page for page in pages if 'イギリス' in page['text']], ensure_ascii=False))"
   ]
  },
  {
   "cell_type": "markdown",
   "metadata": {},
   "source": [
    "# 21. Trích xuất các dòng có chứa tên đề mục\n",
    "Trong các tài liệu, trích xuất các dòng có chứa tên đề mục (category name hay カテゴリ名)."
   ]
  },
  {
   "cell_type": "code",
   "execution_count": 51,
   "metadata": {},
   "outputs": [],
   "source": [
    "# Read JSON file\n",
    "pages = json.load(open('jawiki-country-uk-data.json', encoding='utf8'))"
   ]
  },
  {
   "cell_type": "code",
   "execution_count": 88,
   "metadata": {},
   "outputs": [],
   "source": [
    "import re\n",
    "\n",
    "results = []\n",
    "\n",
    "for page in pages:\n",
    "    for line in page['text'].split('\\n'):\n",
    "        if re.search(r'\\[\\[:?(category|カテゴリ名):.+\\]\\]', line, re.IGNORECASE):\n",
    "            results.append(line)"
   ]
  },
  {
   "cell_type": "code",
   "execution_count": 89,
   "metadata": {},
   "outputs": [
    {
     "data": {
      "text/plain": [
       "623"
      ]
     },
     "execution_count": 89,
     "metadata": {},
     "output_type": "execute_result"
    }
   ],
   "source": [
    "len(results)"
   ]
  },
  {
   "cell_type": "code",
   "execution_count": 90,
   "metadata": {},
   "outputs": [
    {
     "data": {
      "text/plain": [
       "['[[Category:エジプト|*]]', '[[Category:フランコフォニー]]', '[[Category:共和国]]']"
      ]
     },
     "execution_count": 90,
     "metadata": {},
     "output_type": "execute_result"
    }
   ],
   "source": [
    "results[:3]"
   ]
  },
  {
   "cell_type": "code",
   "execution_count": null,
   "metadata": {},
   "outputs": [],
   "source": []
  }
 ],
 "metadata": {
  "kernelspec": {
   "display_name": "Python 3",
   "language": "python",
   "name": "python3"
  },
  "language_info": {
   "codemirror_mode": {
    "name": "ipython",
    "version": 3
   },
   "file_extension": ".py",
   "mimetype": "text/x-python",
   "name": "python",
   "nbconvert_exporter": "python",
   "pygments_lexer": "ipython3",
   "version": "3.6.8"
  }
 },
 "nbformat": 4,
 "nbformat_minor": 4
}
