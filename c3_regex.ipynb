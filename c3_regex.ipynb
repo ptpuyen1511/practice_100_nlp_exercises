{
 "cells": [
  {
   "cell_type": "markdown",
   "metadata": {},
   "source": [
    "# Chương 3: Biểu thức chính quy (regular expressions)\n",
    "Bài tập trong chương 3 sử dụng file jawiki-country.json.gz. File này lưu trữ các tài liệu Wikipedia và có định dạng sau đây.\n",
    "\n",
    "* Dòng thứ nhất lưu trữ thông tin về tài liệu dưới định dạng JSON.\n",
    "* Ở các dòng tiếp theo, dòng tiêu đề của văn bản được lưu trữ tại khoá \"title\"; nội dung của tài liệu được lưu trữ tại khoá \"text\". Các dòng này được lưu trữ ở định dạng JSON.\n",
    "\n",
    "Lập trình để xử lý các việc sau đây."
   ]
  },
  {
   "cell_type": "markdown",
   "metadata": {},
   "source": [
    "# 20. Đọc vào dữ liệu JSON\n",
    "Đọc dữ liệu từ file JSON chứa các tài liệu Wikipedia, trích xuất & hiển thị nội dung của tài liệu (trường text của JSON object) có liên quan đến \"イギリス\" (có nghĩa là nước Anh). Sử dụng các nội dung của tài liệu được trích xuất này để thực thi các nhiệm vụ trong các bài tập từ 21-29."
   ]
  },
  {
   "cell_type": "code",
   "execution_count": 1,
   "metadata": {},
   "outputs": [],
   "source": [
    "import json"
   ]
  },
  {
   "cell_type": "code",
   "execution_count": 44,
   "metadata": {},
   "outputs": [],
   "source": [
    "# Read JSON\n",
    "pages = [json.loads(l) for l in list(open('jawiki-country.json', encoding='utf8'))]"
   ]
  },
  {
   "cell_type": "code",
   "execution_count": 46,
   "metadata": {},
   "outputs": [
    {
     "data": {
      "text/plain": [
       "3844566"
      ]
     },
     "execution_count": 46,
     "metadata": {},
     "output_type": "execute_result"
    }
   ],
   "source": [
    "# Dumps JSON\n",
    "open('jawiki-country-uk-data.json', 'w', encoding='utf8').write(json.dumps([page for page in pages if 'イギリス' in page['text']], ensure_ascii=False))"
   ]
  },
  {
   "cell_type": "markdown",
   "metadata": {},
   "source": [
    "# 21. Trích xuất các dòng có chứa tên đề mục\n",
    "Trong các tài liệu, trích xuất các dòng có chứa tên đề mục (category name hay カテゴリ名)."
   ]
  },
  {
   "cell_type": "code",
   "execution_count": 51,
   "metadata": {},
   "outputs": [],
   "source": [
    "# Read JSON file\n",
    "pages = json.load(open('jawiki-country-uk-data.json', encoding='utf8'))"
   ]
  },
  {
   "cell_type": "code",
   "execution_count": 88,
   "metadata": {},
   "outputs": [],
   "source": [
    "import re\n",
    "\n",
    "results = []\n",
    "\n",
    "for page in pages:\n",
    "    for line in page['text'].split('\\n'):\n",
    "        if re.search(r'\\[\\[:?(category|カテゴリ名):.+\\]\\]', line, re.IGNORECASE):\n",
    "            results.append(line)"
   ]
  },
  {
   "cell_type": "code",
   "execution_count": 89,
   "metadata": {},
   "outputs": [
    {
     "data": {
      "text/plain": [
       "623"
      ]
     },
     "execution_count": 89,
     "metadata": {},
     "output_type": "execute_result"
    }
   ],
   "source": [
    "len(results)"
   ]
  },
  {
   "cell_type": "code",
   "execution_count": 90,
   "metadata": {},
   "outputs": [
    {
     "data": {
      "text/plain": [
       "['[[Category:エジプト|*]]', '[[Category:フランコフォニー]]', '[[Category:共和国]]']"
      ]
     },
     "execution_count": 90,
     "metadata": {},
     "output_type": "execute_result"
    }
   ],
   "source": [
    "results[:3]"
   ]
  },
  {
   "cell_type": "markdown",
   "metadata": {},
   "source": [
    "# 22. Trích xuất các tên đề mục (Category name)\n",
    "Trích xuất tên đề mục của trong các tài liệu. Trong bài tập này, cần trích xuất chính xác các tên đề mục chứ không phải dòng chứa tên đề mục."
   ]
  },
  {
   "cell_type": "code",
   "execution_count": 2,
   "metadata": {},
   "outputs": [],
   "source": [
    "# Read JSON file\n",
    "pages = json.load(open('jawiki-country-uk-data.json', encoding='utf8'))"
   ]
  },
  {
   "cell_type": "code",
   "execution_count": 6,
   "metadata": {},
   "outputs": [],
   "source": [
    "import re\n",
    "\n",
    "results = []\n",
    "\n",
    "for page in pages:\n",
    "    for line in page['text'].split('\\n'):\n",
    "        m = re.search(r'\\[\\[:?(category|カテゴリ名):(.+)\\]\\]', line, re.IGNORECASE)\n",
    "        if m:\n",
    "            results.append(m.group(2))"
   ]
  },
  {
   "cell_type": "code",
   "execution_count": 7,
   "metadata": {},
   "outputs": [
    {
     "data": {
      "text/plain": [
       "['エジプト|*',\n",
       " 'フランコフォニー',\n",
       " '共和国',\n",
       " '軍事政権',\n",
       " 'オーストリアの作曲家|オーストリアの作曲家',\n",
       " 'オーストリア|*',\n",
       " '内陸国',\n",
       " '欧州連合加盟国',\n",
       " '共和国',\n",
       " '連邦制国家']"
      ]
     },
     "execution_count": 7,
     "metadata": {},
     "output_type": "execute_result"
    }
   ],
   "source": [
    "results[:10]"
   ]
  },
  {
   "cell_type": "markdown",
   "metadata": {},
   "source": [
    "# 23. Cấu trúc của các Section\n",
    "Hiển thị tên của các section và level của các section trong các tài liệu Wikipedia (Ví dụ với section == Section Name ==\" thì level bằng 1)"
   ]
  },
  {
   "cell_type": "code",
   "execution_count": 8,
   "metadata": {},
   "outputs": [],
   "source": [
    "# Read JSON file\n",
    "pages = json.load(open('jawiki-country-uk-data.json', encoding='utf8'))"
   ]
  },
  {
   "cell_type": "code",
   "execution_count": 15,
   "metadata": {},
   "outputs": [],
   "source": [
    "results = []\n",
    "\n",
    "for page in pages:\n",
    "    for m in re.findall(r'(==+) (.+) ==+', page['text']):\n",
    "        results.append((m[1], len(m[0])))"
   ]
  },
  {
   "cell_type": "code",
   "execution_count": 16,
   "metadata": {},
   "outputs": [
    {
     "data": {
      "text/plain": [
       "[('国号', 2),\n",
       " ('歴史', 2),\n",
       " ('古代エジプト', 3),\n",
       " ('アケメネス朝ペルシア', 3),\n",
       " ('ヘレニズム文化', 3),\n",
       " ('ローマ帝国', 3),\n",
       " ('イスラム王朝', 3),\n",
       " ('オスマン帝国', 3),\n",
       " ('ムハンマド・アリー朝', 3),\n",
       " ('イギリスの進出', 3)]"
      ]
     },
     "execution_count": 16,
     "metadata": {},
     "output_type": "execute_result"
    }
   ],
   "source": [
    "results[:10]"
   ]
  },
  {
   "cell_type": "markdown",
   "metadata": {},
   "source": [
    "# 24. Trích xuất các liên kết file\n",
    "Trích xuất toàn bộ các liên kết đến các media files trong tài liệu."
   ]
  },
  {
   "cell_type": "code",
   "execution_count": 14,
   "metadata": {},
   "outputs": [],
   "source": [
    "# Read JSON file\n",
    "pages = json.load(open('jawiki-country-uk-data.json', encoding='utf8'))"
   ]
  },
  {
   "cell_type": "code",
   "execution_count": 19,
   "metadata": {},
   "outputs": [],
   "source": [
    "results = []\n",
    "\n",
    "for page in pages:\n",
    "    for m in re.findall(r'File:(.*?)\\||ファイル:(.*?)\\|', page['text']):\n",
    "        for f in m:\n",
    "            if f:\n",
    "                results.append(f)"
   ]
  },
  {
   "cell_type": "code",
   "execution_count": 20,
   "metadata": {},
   "outputs": [
    {
     "data": {
      "text/plain": [
       "['Coat_of_arms_of_Egypt.svg',\n",
       " 'All Gizah Pyramids.jpg',\n",
       " 'Egyptiska hieroglyfer, Nordisk familjebok.png',\n",
       " 'ModernEgypt, Muhammad Ali by Auguste Couder, BAP 17996.jpg',\n",
       " 'Gamal Nasser.jpg',\n",
       " 'Hosni Mubarak ritratto.jpg',\n",
       " 'Abrams in Tahrir.jpg',\n",
       " 'Egypt Topography.png',\n",
       " 'S F-E-CAMERON 2006-10-EGYPT-LUXOR-0439.JPG',\n",
       " 'View from Cairo Tower 31march2007.jpg']"
      ]
     },
     "execution_count": 20,
     "metadata": {},
     "output_type": "execute_result"
    }
   ],
   "source": [
    "results[:10]"
   ]
  },
  {
   "cell_type": "markdown",
   "metadata": {},
   "source": [
    "# 25. Trích xuất templates\n",
    "Trích xuất vị trí và tên các folder có template \"基礎情報\" trong tài liệu. Lưu kết quả trong các đối tượng dictionary. Tham khảo về templates tại đây."
   ]
  },
  {
   "cell_type": "code",
   "execution_count": 14,
   "metadata": {},
   "outputs": [],
   "source": [
    "# Read JSON file\n",
    "pages = json.load(open('jawiki-country-uk-data.json', encoding='utf8'))"
   ]
  },
  {
   "cell_type": "code",
   "execution_count": 48,
   "metadata": {},
   "outputs": [],
   "source": [
    "from collections import defaultdict\n",
    "\n",
    "results = defaultdict(dict)\n",
    "\n",
    "for page in pages:\n",
    "    for m1 in re.findall(r'{{基礎情報(.*?)}}\\n', page['text'], re.MULTILINE|re.DOTALL):\n",
    "        for m2 in re.findall('([^|\\n]*?)\\s*=(.*?)\\n', m1):\n",
    "            results[page['title']].update({m2[0].strip(): m2[1].strip()})"
   ]
  },
  {
   "cell_type": "code",
   "execution_count": 50,
   "metadata": {},
   "outputs": [
    {
     "data": {
      "text/plain": [
       "dict_keys(['エジプト', 'オーストリア', 'インドネシア', 'イラク', 'イラン', 'トルコ', 'ロシア', 'コスタリカ', '中華人民共和国', 'インド', 'パラグアイ', 'アルゼンチン', 'ウルグアイ', 'チリ', 'ボリビア', 'ペルー', 'メキシコ', 'イタリア', 'イスラエル', 'ギリシャ', 'サウジアラビア', 'クウェート', 'スリランカ', 'アフガニスタン', 'ポルトガル', 'ナイジェリア', 'ヨルダン', 'パキスタン', 'レバノン', 'イエメン', 'オマーン', 'ネパール', 'ポーランド', 'バーレーン', 'ニュージーランド', 'ジャマイカ', 'アルメニア', 'コロンビア', 'チェコ', 'ブータン', 'エストニア', 'モロッコ', 'ソマリア', 'アラブ首長国連邦', 'キプロス', 'バングラデシュ', 'ブルネイ', 'アンゴラ', 'ウガンダ', 'ガーナ', 'カメルーン', 'ギニア', 'ケニア', 'スーダン', 'モザンビーク', 'ニジェール', 'ウクライナ', 'ボスニア・ヘルツェゴビナ', 'ベラルーシ', 'タンザニア', 'フィジー', 'セントクリストファー・ネイビス', 'マルタ', 'リヒテンシュタイン', 'キューバ', 'モーリシャス', 'ウズベキスタン', 'タジキスタン', 'マラウイ', 'ジンバブエ', 'サンマリノ', 'ソマリランド', 'ガイアナ', 'ニカラグア', 'レソト', 'アゼルバイジャン', 'トンガ', 'カーボベルデ', '赤道ギニア', 'エリトリア', 'コートジボワール', 'ガボン', 'ザンビア', 'スワジランド', 'スリナム', 'パプアニューギニア', 'セーシェル', 'セネガル', 'トーゴ', 'ソロモン諸島', 'マダガスカル', 'グアテマラ', 'ボツワナ', 'ルワンダ', 'アンティグア・バーブーダ', 'バハマ', 'セントビンセント・グレナディーン', 'パナマ', 'キリバス', 'バルバドス', 'モルディブ', 'タイ王国', 'サモア', 'トリニダード・トバゴ', 'ハイチ', 'ドミニカ国', 'グレナダ', 'セントルシア', 'ナウル', 'ベリーズ', 'ホンジュラス', 'バヌアツ', 'マーシャル諸島', 'コソボ', 'ニウエ', 'クック諸島', 'フィリピン', 'ツバル', 'カタール', 'ナミビア', 'リビア', 'ガンビア', '中華民国', '大韓民国', '南スーダン', 'ブラジル', '朝鮮民主主義人民共和国', 'ブルガリア', 'オーストラリア', 'ミャンマー', 'シエラレオネ', 'エチオピア', 'オランダ', 'ベルギー', 'スペイン', 'カナダ', 'アメリカ合衆国', '南アフリカ共和国', 'デンマーク', 'スウェーデン', 'アイスランド', 'フランス', 'ドイツ', 'イギリス', 'ラトビア', 'パラオ', '日本', 'シンガポール', 'マレーシア'])"
      ]
     },
     "execution_count": 50,
     "metadata": {},
     "output_type": "execute_result"
    }
   ],
   "source": [
    "results.keys()"
   ]
  },
  {
   "cell_type": "code",
   "execution_count": 51,
   "metadata": {},
   "outputs": [
    {
     "data": {
      "text/plain": [
       "{'略名': 'エジプト',\n",
       " '日本語国名': 'エジプト・アラブ共和国',\n",
       " '公式国名': \"'''{{lang|ar|جمهورية مصر العربية}}'''\",\n",
       " '国旗画像': 'Flag of Egypt.svg',\n",
       " '国章画像': '[[ファイル:Coat_of_arms_of_Egypt.svg|100px|エジプトの国章]]',\n",
       " '国章リンク': '（[[エジプトの国章|国章]]）',\n",
       " '標語': 'なし',\n",
       " '位置画像': 'Egypt (orthographic projection).svg',\n",
       " '公用語': '[[アラビア語]]',\n",
       " '首都': '[[カイロ]]',\n",
       " '最大都市': 'カイロ',\n",
       " '元首等肩書': '[[近代エジプトの国家元首の一覧|大統領]]',\n",
       " '元首等氏名': '[[アブドルファッターフ・アッ＝シーシー]]',\n",
       " '首相等肩書': '[[エジプトの首相|首相]]',\n",
       " '首相等氏名': '[[イブラヒーム・メフレブ]]',\n",
       " '面積順位': '29',\n",
       " '面積大きさ': '1 E12',\n",
       " '面積値': '1,001,450',\n",
       " '水面積率': '0.6%',\n",
       " '人口統計年': '2011',\n",
       " '人口順位': '',\n",
       " '人口大きさ': '1 E7',\n",
       " '人口値': '81,120,000',\n",
       " '人口密度値': '76',\n",
       " 'GDP統計年元': '2008',\n",
       " 'GDP値元': '8,965億<ref name=\"economy\">IMF Data and Statistics 2009年4月27日閲覧（[http://www.imf.org/external/pubs/ft/weo/2009/01/weodata/weorept.aspx?pr.x=77&pr.y=19&sy=2008&ey=2008&scsm=1&ssd=1&sort=country&ds=.&br=1&c=469&s=NGDP%2CNGDPD%2CPPPGDP%2CPPPPC&grp=0&a=]）</ref>',\n",
       " 'GDP統計年MER': '2008',\n",
       " 'GDP順位MER': '49',\n",
       " 'GDP値MER': '1,621億<ref name=\"economy\" />',\n",
       " 'GDP統計年': '2008',\n",
       " 'GDP順位': '28',\n",
       " 'GDP値': '4,426億<ref name=\"economy\" />',\n",
       " 'GDP/人': '5,898<ref name=\"economy\" />',\n",
       " '建国形態': '[[独立]]<br />&nbsp;-&nbsp;日付',\n",
       " '建国年月日': '[[イギリス]]より<br />[[1922年]][[2月28日]]',\n",
       " '通貨': '[[エジプト・ポンド]] (£)',\n",
       " '通貨コード': 'EGP',\n",
       " '時間帯': '(+2)',\n",
       " '夏時間': '(+3)',\n",
       " '国歌名': '我が祖国',\n",
       " 'ISO 3166-1': 'EG / EGY',\n",
       " 'ccTLD': '[[.eg]]',\n",
       " '国際電話番号': '20',\n",
       " '注記': ''}"
      ]
     },
     "execution_count": 51,
     "metadata": {},
     "output_type": "execute_result"
    }
   ],
   "source": [
    "results['エジプト']"
   ]
  },
  {
   "cell_type": "markdown",
   "metadata": {},
   "source": [
    "# 26. Loại bỏ các emphasis markups\n",
    "Trong khi làm các xử lý ở bài tập 25, xoá các emphasis markup (italic, bold, both) từ vị trí của các templates và biến đổi thành plain text. (Tham khảo về các loại markup tại Wiki markup, bảng tham khảo bằng tiếng Nhật tại マークアップ早見表)."
   ]
  },
  {
   "cell_type": "code",
   "execution_count": 14,
   "metadata": {},
   "outputs": [],
   "source": [
    "# Read JSON file\n",
    "pages = json.load(open('jawiki-country-uk-data.json', encoding='utf8'))"
   ]
  },
  {
   "cell_type": "code",
   "execution_count": 52,
   "metadata": {},
   "outputs": [],
   "source": [
    "from collections import defaultdict\n",
    "\n",
    "results = defaultdict(dict)\n",
    "\n",
    "for page in pages:\n",
    "    for m1 in re.findall(r'{{基礎情報(.*?)}}\\n', page['text'], re.MULTILINE|re.DOTALL):\n",
    "        for m2 in re.findall('([^|\\n]*?)\\s*=(.*?)\\n', m1):\n",
    "            v = re.sub(r'\\|$', '', m2[1].strip())        # replace char | and endline\n",
    "            v = re.sub(r'''(.+)''', '\\g<1>', v)          # replace italics\n",
    "            v = re.sub(\"'''(.+)'''\", '\\g<1>', v)         # replace bold\n",
    "            v = re.sub(r'''''(.+)''''', '\\g<1>', v)      # replace both\n",
    "            #\\g<num> where num is the num of group in pat, num \\in [1,99]\n",
    "            results[page['title']].update({m2[0].strip(): v})"
   ]
  },
  {
   "cell_type": "code",
   "execution_count": 54,
   "metadata": {},
   "outputs": [
    {
     "data": {
      "text/plain": [
       "{'略名': 'エジプト',\n",
       " '日本語国名': 'エジプト・アラブ共和国',\n",
       " '公式国名': '{{lang|ar|جمهورية مصر العربية}}',\n",
       " '国旗画像': 'Flag of Egypt.svg',\n",
       " '国章画像': '[[ファイル:Coat_of_arms_of_Egypt.svg|100px|エジプトの国章]]',\n",
       " '国章リンク': '（[[エジプトの国章|国章]]）',\n",
       " '標語': 'なし',\n",
       " '位置画像': 'Egypt (orthographic projection).svg',\n",
       " '公用語': '[[アラビア語]]',\n",
       " '首都': '[[カイロ]]',\n",
       " '最大都市': 'カイロ',\n",
       " '元首等肩書': '[[近代エジプトの国家元首の一覧|大統領]]',\n",
       " '元首等氏名': '[[アブドルファッターフ・アッ＝シーシー]]',\n",
       " '首相等肩書': '[[エジプトの首相|首相]]',\n",
       " '首相等氏名': '[[イブラヒーム・メフレブ]]',\n",
       " '面積順位': '29',\n",
       " '面積大きさ': '1 E12',\n",
       " '面積値': '1,001,450',\n",
       " '水面積率': '0.6%',\n",
       " '人口統計年': '2011',\n",
       " '人口順位': '',\n",
       " '人口大きさ': '1 E7',\n",
       " '人口値': '81,120,000',\n",
       " '人口密度値': '76',\n",
       " 'GDP統計年元': '2008',\n",
       " 'GDP値元': '8,965億<ref name=\"economy\">IMF Data and Statistics 2009年4月27日閲覧（[http://www.imf.org/external/pubs/ft/weo/2009/01/weodata/weorept.aspx?pr.x=77&pr.y=19&sy=2008&ey=2008&scsm=1&ssd=1&sort=country&ds=.&br=1&c=469&s=NGDP%2CNGDPD%2CPPPGDP%2CPPPPC&grp=0&a=]）</ref>',\n",
       " 'GDP統計年MER': '2008',\n",
       " 'GDP順位MER': '49',\n",
       " 'GDP値MER': '1,621億<ref name=\"economy\" />',\n",
       " 'GDP統計年': '2008',\n",
       " 'GDP順位': '28',\n",
       " 'GDP値': '4,426億<ref name=\"economy\" />',\n",
       " 'GDP/人': '5,898<ref name=\"economy\" />',\n",
       " '建国形態': '[[独立]]<br />&nbsp;-&nbsp;日付',\n",
       " '建国年月日': '[[イギリス]]より<br />[[1922年]][[2月28日]]',\n",
       " '通貨': '[[エジプト・ポンド]] (£)',\n",
       " '通貨コード': 'EGP',\n",
       " '時間帯': '(+2)',\n",
       " '夏時間': '(+3)',\n",
       " '国歌名': '我が祖国',\n",
       " 'ISO 3166-1': 'EG / EGY',\n",
       " 'ccTLD': '[[.eg]]',\n",
       " '国際電話番号': '20',\n",
       " '注記': ''}"
      ]
     },
     "execution_count": 54,
     "metadata": {},
     "output_type": "execute_result"
    }
   ],
   "source": [
    "results['エジプト']"
   ]
  },
  {
   "cell_type": "markdown",
   "metadata": {},
   "source": [
    "# 27. Xoá các link đến các trang Wikipedia khác\n",
    "Nhiệm vụ giống như bài 26 và thêm vào xử lý sau. Xoá các markups của liên kết đến các trang Wikipedia khác từ các templates được trích xuất và biến đổi thành dạng text. (Tham khảo về các loại markup tại Wiki markup, bảng tham khảo bằng tiếng Nhật tại マークアップ早見表)."
   ]
  },
  {
   "cell_type": "code",
   "execution_count": 2,
   "metadata": {},
   "outputs": [],
   "source": [
    "# Read JSON file\n",
    "import json\n",
    "pages = json.load(open('jawiki-country-uk-data.json', encoding='utf8'))"
   ]
  },
  {
   "cell_type": "code",
   "execution_count": 14,
   "metadata": {},
   "outputs": [],
   "source": [
    "from collections import defaultdict\n",
    "import re\n",
    "\n",
    "results = defaultdict(dict)\n",
    "\n",
    "for page in pages[:5]:\n",
    "    for m1 in re.findall(r'{{基礎情報(.*?)}}\\n', page['text'], re.MULTILINE|re.DOTALL):\n",
    "        for m2 in re.findall('([^|\\n]*?)\\s*=(.*?)\\n', m1):\n",
    "            v = re.sub(r'\\|$', '', m2[1].strip())        # replace char | and endline\n",
    "            v = re.sub(r'''(.+)''', '\\g<1>', v)          # replace italics\n",
    "            v = re.sub(\"'''(.+)'''\", '\\g<1>', v)         # replace bold\n",
    "            v = re.sub(r'''''(.+)''''', '\\g<1>', v)      # replace both\n",
    "            #\\g<num> where num is the num of group in pat, num \\in [1,99]\n",
    "            \n",
    "            v = re.sub(r'\\[\\[(.+)\\]\\]', '\\g<1>', v)       # remove markup link\n",
    "\n",
    "            results[page['title']].update({m2[0].strip(): v})"
   ]
  },
  {
   "cell_type": "code",
   "execution_count": 15,
   "metadata": {},
   "outputs": [
    {
     "data": {
      "text/plain": [
       "{'略名': 'エジプト',\n",
       " '日本語国名': 'エジプト・アラブ共和国',\n",
       " '公式国名': '{{lang|ar|جمهورية مصر العربية}}',\n",
       " '国旗画像': 'Flag of Egypt.svg',\n",
       " '国章画像': 'ファイル:Coat_of_arms_of_Egypt.svg|100px|エジプトの国章',\n",
       " '国章リンク': '（エジプトの国章|国章）',\n",
       " '標語': 'なし',\n",
       " '位置画像': 'Egypt (orthographic projection).svg',\n",
       " '公用語': 'アラビア語',\n",
       " '首都': 'カイロ',\n",
       " '最大都市': 'カイロ',\n",
       " '元首等肩書': '近代エジプトの国家元首の一覧|大統領',\n",
       " '元首等氏名': 'アブドルファッターフ・アッ＝シーシー',\n",
       " '首相等肩書': 'エジプトの首相|首相',\n",
       " '首相等氏名': 'イブラヒーム・メフレブ',\n",
       " '面積順位': '29',\n",
       " '面積大きさ': '1 E12',\n",
       " '面積値': '1,001,450',\n",
       " '水面積率': '0.6%',\n",
       " '人口統計年': '2011',\n",
       " '人口順位': '',\n",
       " '人口大きさ': '1 E7',\n",
       " '人口値': '81,120,000',\n",
       " '人口密度値': '76',\n",
       " 'GDP統計年元': '2008',\n",
       " 'GDP値元': '8,965億<ref name=\"economy\">IMF Data and Statistics 2009年4月27日閲覧（[http://www.imf.org/external/pubs/ft/weo/2009/01/weodata/weorept.aspx?pr.x=77&pr.y=19&sy=2008&ey=2008&scsm=1&ssd=1&sort=country&ds=.&br=1&c=469&s=NGDP%2CNGDPD%2CPPPGDP%2CPPPPC&grp=0&a=]）</ref>',\n",
       " 'GDP統計年MER': '2008',\n",
       " 'GDP順位MER': '49',\n",
       " 'GDP値MER': '1,621億<ref name=\"economy\" />',\n",
       " 'GDP統計年': '2008',\n",
       " 'GDP順位': '28',\n",
       " 'GDP値': '4,426億<ref name=\"economy\" />',\n",
       " 'GDP/人': '5,898<ref name=\"economy\" />',\n",
       " '建国形態': '独立<br />&nbsp;-&nbsp;日付',\n",
       " '建国年月日': 'イギリス]]より<br />[[1922年]][[2月28日',\n",
       " '通貨': 'エジプト・ポンド (£)',\n",
       " '通貨コード': 'EGP',\n",
       " '時間帯': '(+2)',\n",
       " '夏時間': '(+3)',\n",
       " '国歌名': '我が祖国',\n",
       " 'ISO 3166-1': 'EG / EGY',\n",
       " 'ccTLD': '.eg',\n",
       " '国際電話番号': '20',\n",
       " '注記': ''}"
      ]
     },
     "execution_count": 15,
     "metadata": {},
     "output_type": "execute_result"
    }
   ],
   "source": [
    "results['エジプト']"
   ]
  },
  {
   "cell_type": "markdown",
   "metadata": {},
   "source": [
    "# 28. Xoá các markup trong văn bản\n",
    "Thêm vào xử lý ở bài 27. Xoá các markup trong các templates càng nhiều càng tốt và in ra các thông tin cơ bản về quốc gia."
   ]
  },
  {
   "cell_type": "code",
   "execution_count": 16,
   "metadata": {},
   "outputs": [],
   "source": [
    "# Read JSON file\n",
    "import json\n",
    "pages = json.load(open('jawiki-country-uk-data.json', encoding='utf8'))"
   ]
  },
  {
   "cell_type": "code",
   "execution_count": 18,
   "metadata": {},
   "outputs": [],
   "source": [
    "from collections import defaultdict\n",
    "import re\n",
    "\n",
    "results = defaultdict(dict)\n",
    "\n",
    "for page in pages:\n",
    "    for m1 in re.findall(r'{{基礎情報(.*?)}}\\n', page['text'], re.MULTILINE|re.DOTALL):\n",
    "        for m2 in re.findall('([^|\\n]*?)\\s*=(.*?)\\n', m1):\n",
    "            v = re.sub(r'\\|$', '', m2[1].strip())        # replace char | and endline\n",
    "            v = re.sub(r'''(.+)''', '\\g<1>', v)          # replace italics\n",
    "            v = re.sub(\"'''(.+)'''\", '\\g<1>', v)         # replace bold\n",
    "            v = re.sub(r'''''(.+)''''', '\\g<1>', v)      # replace both\n",
    "            #\\g<num> where num is the num of group in pat, num \\in [1,99]\n",
    "            \n",
    "            v = re.sub(r'\\[\\[(.+)\\]\\]', '\\g<1>', v)       # remove markup link\n",
    "\n",
    "            v = re.sub(r'\\[https?://[-\\w.&=?%/]+/? (.+)\\]', '\\g<1>', v)   # remove link and name a website\n",
    "            v = re.sub(r'<ref[^<]+(</ref>)?', '', v) # remove citations, references, and footnotes\n",
    "            v = re.sub(r'{{(.+)}}', '\\g<1>', v)   # remove ref list\n",
    "            v = re.sub(r'(<s>(.+)</s>)', '\\g<1>', v) # remove strike\n",
    "            v = re.sub(r'(<u>(.+)</u>)', '\\g<1>', v) # remove underline\n",
    "            results[page['title']].update({m2[0].strip(): v})"
   ]
  },
  {
   "cell_type": "code",
   "execution_count": 26,
   "metadata": {},
   "outputs": [
    {
     "data": {
      "text/plain": [
       "{'略名': 'イギリス',\n",
       " '日本語国名': 'グレートブリテン及び北アイルランド連合王国',\n",
       " '公式国名': 'lang|en|United Kingdom of Great Britain and Northern Ireland<br/>',\n",
       " '国旗画像': 'Flag of the United Kingdom.svg',\n",
       " '国章画像': 'ファイル:Royal Coat of Arms of the United Kingdom.svg|85px|イギリスの国章',\n",
       " '国章リンク': '（イギリスの国章|国章）',\n",
       " '標語': 'lang|fr|Dieu et mon droit<br/>（フランス語:神と私の権利）',\n",
       " '国歌': '女王陛下万歳|神よ女王陛下を守り給え',\n",
       " '位置画像': 'Location_UK_EU_Europe_001.svg',\n",
       " '公用語': '英語（事実上）',\n",
       " '首都': 'ロンドン',\n",
       " '最大都市': 'ロンドン',\n",
       " '元首等肩書': 'イギリスの君主|女王',\n",
       " '元首等氏名': 'エリザベス2世',\n",
       " '首相等肩書': 'イギリスの首相|首相',\n",
       " '首相等氏名': 'デーヴィッド・キャメロン',\n",
       " '面積順位': '76',\n",
       " '面積大きさ': '1 E11',\n",
       " '面積値': '244,820',\n",
       " '水面積率': '1.3%',\n",
       " '人口統計年': '2011',\n",
       " '人口順位': '22',\n",
       " '人口大きさ': '1 E7',\n",
       " '人口値': '63,181,775',\n",
       " '人口密度値': '246',\n",
       " 'GDP統計年元': '2012',\n",
       " 'GDP値元': '1兆5478億',\n",
       " 'GDP統計年MER': '2012',\n",
       " 'GDP順位MER': '5',\n",
       " 'GDP値MER': '2兆4337億',\n",
       " 'GDP統計年': '2012',\n",
       " 'GDP順位': '6',\n",
       " 'GDP値': '2兆3162億',\n",
       " 'GDP/人': '36,727',\n",
       " '建国形態': '建国',\n",
       " '確立形態1': 'イングランド王国]]／[[スコットランド王国]]<br />（両国とも[[連合法 (1707年)|1707年連合法まで）',\n",
       " '確立年月日1': '927年]]／[[843年',\n",
       " '確立形態2': 'グレートブリテン王国]]建国<br />（[[連合法 (1707年)|1707年連合法）',\n",
       " '確立年月日2': '1707年',\n",
       " '確立形態3': 'グレートブリテン及びアイルランド連合王国]]建国<br />（[[連合法 (1800年)|1800年連合法）',\n",
       " '確立年月日3': '1801年',\n",
       " '確立形態4': '現在の国号「グレートブリテン及び北アイルランド連合王国」に変更',\n",
       " '確立年月日4': '1927年',\n",
       " '通貨': 'スターリング・ポンド|UKポンド (&pound;)',\n",
       " '通貨コード': 'GBP',\n",
       " '時間帯': '±0',\n",
       " '夏時間': '+1',\n",
       " 'ISO 3166-1': 'GB / GBR',\n",
       " 'ccTLD': '.uk]] / [[.gb',\n",
       " '国際電話番号': '44',\n",
       " '注記': ''}"
      ]
     },
     "execution_count": 26,
     "metadata": {},
     "output_type": "execute_result"
    }
   ],
   "source": [
    "results['イギリス']"
   ]
  },
  {
   "cell_type": "code",
   "execution_count": null,
   "metadata": {},
   "outputs": [],
   "source": []
  }
 ],
 "metadata": {
  "kernelspec": {
   "display_name": "Python 3",
   "language": "python",
   "name": "python3"
  },
  "language_info": {
   "codemirror_mode": {
    "name": "ipython",
    "version": 3
   },
   "file_extension": ".py",
   "mimetype": "text/x-python",
   "name": "python",
   "nbconvert_exporter": "python",
   "pygments_lexer": "ipython3",
   "version": "3.6.8"
  }
 },
 "nbformat": 4,
 "nbformat_minor": 4
}
