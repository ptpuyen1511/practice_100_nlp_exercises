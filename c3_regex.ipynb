{
 "cells": [
  {
   "cell_type": "markdown",
   "metadata": {},
   "source": [
    "# Chương 3: Biểu thức chính quy (regular expressions)\n",
    "Bài tập trong chương 3 sử dụng file jawiki-country.json.gz. File này lưu trữ các tài liệu Wikipedia và có định dạng sau đây.\n",
    "\n",
    "* Dòng thứ nhất lưu trữ thông tin về tài liệu dưới định dạng JSON.\n",
    "* Ở các dòng tiếp theo, dòng tiêu đề của văn bản được lưu trữ tại khoá \"title\"; nội dung của tài liệu được lưu trữ tại khoá \"text\". Các dòng này được lưu trữ ở định dạng JSON.\n",
    "\n",
    "Lập trình để xử lý các việc sau đây."
   ]
  },
  {
   "cell_type": "markdown",
   "metadata": {},
   "source": [
    "# 20. Đọc vào dữ liệu JSON\n",
    "Đọc dữ liệu từ file JSON chứa các tài liệu Wikipedia, trích xuất & hiển thị nội dung của tài liệu (trường text của JSON object) có liên quan đến \"イギリス\" (có nghĩa là nước Anh). Sử dụng các nội dung của tài liệu được trích xuất này để thực thi các nhiệm vụ trong các bài tập từ 21-29."
   ]
  },
  {
   "cell_type": "code",
   "execution_count": 1,
   "metadata": {},
   "outputs": [],
   "source": [
    "import json"
   ]
  },
  {
   "cell_type": "code",
   "execution_count": 44,
   "metadata": {},
   "outputs": [],
   "source": [
    "# Read JSON\n",
    "pages = [json.loads(l) for l in list(open('jawiki-country.json', encoding='utf8'))]"
   ]
  },
  {
   "cell_type": "code",
   "execution_count": 46,
   "metadata": {},
   "outputs": [
    {
     "data": {
      "text/plain": [
       "3844566"
      ]
     },
     "execution_count": 46,
     "metadata": {},
     "output_type": "execute_result"
    }
   ],
   "source": [
    "# Dumps JSON\n",
    "open('jawiki-country-uk-data.json', 'w', encoding='utf8').write(json.dumps([page for page in pages if 'イギリス' in page['text']], ensure_ascii=False))"
   ]
  },
  {
   "cell_type": "markdown",
   "metadata": {},
   "source": [
    "# 21. Trích xuất các dòng có chứa tên đề mục\n",
    "Trong các tài liệu, trích xuất các dòng có chứa tên đề mục (category name hay カテゴリ名)."
   ]
  },
  {
   "cell_type": "code",
   "execution_count": 51,
   "metadata": {},
   "outputs": [],
   "source": [
    "# Read JSON file\n",
    "pages = json.load(open('jawiki-country-uk-data.json', encoding='utf8'))"
   ]
  },
  {
   "cell_type": "code",
   "execution_count": 88,
   "metadata": {},
   "outputs": [],
   "source": [
    "import re\n",
    "\n",
    "results = []\n",
    "\n",
    "for page in pages:\n",
    "    for line in page['text'].split('\\n'):\n",
    "        if re.search(r'\\[\\[:?(category|カテゴリ名):.+\\]\\]', line, re.IGNORECASE):\n",
    "            results.append(line)"
   ]
  },
  {
   "cell_type": "code",
   "execution_count": 89,
   "metadata": {},
   "outputs": [
    {
     "data": {
      "text/plain": [
       "623"
      ]
     },
     "execution_count": 89,
     "metadata": {},
     "output_type": "execute_result"
    }
   ],
   "source": [
    "len(results)"
   ]
  },
  {
   "cell_type": "code",
   "execution_count": 90,
   "metadata": {},
   "outputs": [
    {
     "data": {
      "text/plain": [
       "['[[Category:エジプト|*]]', '[[Category:フランコフォニー]]', '[[Category:共和国]]']"
      ]
     },
     "execution_count": 90,
     "metadata": {},
     "output_type": "execute_result"
    }
   ],
   "source": [
    "results[:3]"
   ]
  },
  {
   "cell_type": "markdown",
   "metadata": {},
   "source": [
    "# 22. Trích xuất các tên đề mục (Category name)\n",
    "Trích xuất tên đề mục của trong các tài liệu. Trong bài tập này, cần trích xuất chính xác các tên đề mục chứ không phải dòng chứa tên đề mục."
   ]
  },
  {
   "cell_type": "code",
   "execution_count": 2,
   "metadata": {},
   "outputs": [],
   "source": [
    "# Read JSON file\n",
    "pages = json.load(open('jawiki-country-uk-data.json', encoding='utf8'))"
   ]
  },
  {
   "cell_type": "code",
   "execution_count": 6,
   "metadata": {},
   "outputs": [],
   "source": [
    "import re\n",
    "\n",
    "results = []\n",
    "\n",
    "for page in pages:\n",
    "    for line in page['text'].split('\\n'):\n",
    "        m = re.search(r'\\[\\[:?(category|カテゴリ名):(.+)\\]\\]', line, re.IGNORECASE)\n",
    "        if m:\n",
    "            results.append(m.group(2))"
   ]
  },
  {
   "cell_type": "code",
   "execution_count": 7,
   "metadata": {},
   "outputs": [
    {
     "data": {
      "text/plain": [
       "['エジプト|*',\n",
       " 'フランコフォニー',\n",
       " '共和国',\n",
       " '軍事政権',\n",
       " 'オーストリアの作曲家|オーストリアの作曲家',\n",
       " 'オーストリア|*',\n",
       " '内陸国',\n",
       " '欧州連合加盟国',\n",
       " '共和国',\n",
       " '連邦制国家']"
      ]
     },
     "execution_count": 7,
     "metadata": {},
     "output_type": "execute_result"
    }
   ],
   "source": [
    "results[:10]"
   ]
  },
  {
   "cell_type": "markdown",
   "metadata": {},
   "source": [
    "# 23. Cấu trúc của các Section\n",
    "Hiển thị tên của các section và level của các section trong các tài liệu Wikipedia (Ví dụ với section == Section Name ==\" thì level bằng 1)"
   ]
  },
  {
   "cell_type": "code",
   "execution_count": 8,
   "metadata": {},
   "outputs": [],
   "source": [
    "# Read JSON file\n",
    "pages = json.load(open('jawiki-country-uk-data.json', encoding='utf8'))"
   ]
  },
  {
   "cell_type": "code",
   "execution_count": 15,
   "metadata": {},
   "outputs": [],
   "source": [
    "results = []\n",
    "\n",
    "for page in pages:\n",
    "    for m in re.findall(r'(==+) (.+) ==+', page['text']):\n",
    "        results.append((m[1], len(m[0])))"
   ]
  },
  {
   "cell_type": "code",
   "execution_count": 16,
   "metadata": {},
   "outputs": [
    {
     "data": {
      "text/plain": [
       "[('国号', 2),\n",
       " ('歴史', 2),\n",
       " ('古代エジプト', 3),\n",
       " ('アケメネス朝ペルシア', 3),\n",
       " ('ヘレニズム文化', 3),\n",
       " ('ローマ帝国', 3),\n",
       " ('イスラム王朝', 3),\n",
       " ('オスマン帝国', 3),\n",
       " ('ムハンマド・アリー朝', 3),\n",
       " ('イギリスの進出', 3)]"
      ]
     },
     "execution_count": 16,
     "metadata": {},
     "output_type": "execute_result"
    }
   ],
   "source": [
    "results[:10]"
   ]
  },
  {
   "cell_type": "markdown",
   "metadata": {},
   "source": [
    "# 24. Trích xuất các liên kết file\n",
    "Trích xuất toàn bộ các liên kết đến các media files trong tài liệu."
   ]
  },
  {
   "cell_type": "code",
   "execution_count": 14,
   "metadata": {},
   "outputs": [],
   "source": [
    "# Read JSON file\n",
    "pages = json.load(open('jawiki-country-uk-data.json', encoding='utf8'))"
   ]
  },
  {
   "cell_type": "code",
   "execution_count": 19,
   "metadata": {},
   "outputs": [],
   "source": [
    "results = []\n",
    "\n",
    "for page in pages:\n",
    "    for m in re.findall(r'File:(.*?)\\||ファイル:(.*?)\\|', page['text']):\n",
    "        for f in m:\n",
    "            if f:\n",
    "                results.append(f)"
   ]
  },
  {
   "cell_type": "code",
   "execution_count": 20,
   "metadata": {},
   "outputs": [
    {
     "data": {
      "text/plain": [
       "['Coat_of_arms_of_Egypt.svg',\n",
       " 'All Gizah Pyramids.jpg',\n",
       " 'Egyptiska hieroglyfer, Nordisk familjebok.png',\n",
       " 'ModernEgypt, Muhammad Ali by Auguste Couder, BAP 17996.jpg',\n",
       " 'Gamal Nasser.jpg',\n",
       " 'Hosni Mubarak ritratto.jpg',\n",
       " 'Abrams in Tahrir.jpg',\n",
       " 'Egypt Topography.png',\n",
       " 'S F-E-CAMERON 2006-10-EGYPT-LUXOR-0439.JPG',\n",
       " 'View from Cairo Tower 31march2007.jpg']"
      ]
     },
     "execution_count": 20,
     "metadata": {},
     "output_type": "execute_result"
    }
   ],
   "source": [
    "results[:10]"
   ]
  },
  {
   "cell_type": "code",
   "execution_count": null,
   "metadata": {},
   "outputs": [],
   "source": []
  }
 ],
 "metadata": {
  "kernelspec": {
   "display_name": "Python 3",
   "language": "python",
   "name": "python3"
  },
  "language_info": {
   "codemirror_mode": {
    "name": "ipython",
    "version": 3
   },
   "file_extension": ".py",
   "mimetype": "text/x-python",
   "name": "python",
   "nbconvert_exporter": "python",
   "pygments_lexer": "ipython3",
   "version": "3.6.8"
  }
 },
 "nbformat": 4,
 "nbformat_minor": 4
}
