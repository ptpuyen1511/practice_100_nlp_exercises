{
 "cells": [
  {
   "cell_type": "markdown",
   "metadata": {},
   "source": [
    "# Chương 2: Các lệnh cơ bản trên môi trường Unix\n",
    "\n",
    "Các bài tập trong chương này sử dụng dữ liệu trong file hightemp.txt. File này bao gồm các bản ghi nhiệt độ cao nhất ở Nhật Bản. Mỗi bản ghi bao gồm 3 cột \"Tỉnh\", \"Địa điểm\", \"Nhiệt độ\" (độ C), và ngày tháng đo. Các cột dữ liệu được phân cách bằng ký tự tab. Viết các chương trình thực hiện các nhiệm vụ trong các bài tập dưới đây. Sau đó, chỉ sử dụng các lệnh trong unix để thực hiện các nhiệm vụ đó và xác nhận xem kết quả của chương trình bạn viết có giống với kết quả các lệnh unix đưa ra hay không."
   ]
  },
  {
   "cell_type": "markdown",
   "metadata": {},
   "source": [
    "# 10. Đếm số dòng trong file\n",
    "Đếm số dòng trong file. Xác nhận kết quả bằng lệnh wc trong unix."
   ]
  },
  {
   "cell_type": "code",
   "execution_count": 33,
   "metadata": {},
   "outputs": [
    {
     "data": {
      "text/plain": [
       "24"
      ]
     },
     "execution_count": 33,
     "metadata": {},
     "output_type": "execute_result"
    }
   ],
   "source": [
    "# Python code\n",
    "num_lines = sum(1 for line in open('hightemp.txt'))\n",
    "num_lines"
   ]
  },
  {
   "cell_type": "code",
   "execution_count": 5,
   "metadata": {},
   "outputs": [
    {
     "name": "stdout",
     "output_type": "stream",
     "text": [
      "24 hightemp.txt\n"
     ]
    }
   ],
   "source": [
    "# unix command\n",
    "!wc -l hightemp.txt"
   ]
  },
  {
   "cell_type": "markdown",
   "metadata": {},
   "source": [
    "# 11. Biến đổi các ký tự tab thành space\n",
    "\n",
    "Chuyễn mỗi ký tự tab thành ký tự space. Xác nhận kết quả lần lượt bằng các lệnh sed, tr, và expand."
   ]
  },
  {
   "cell_type": "code",
   "execution_count": 24,
   "metadata": {},
   "outputs": [],
   "source": [
    "# Python code\n",
    "with open('hightemp.txt', 'r') as f:\n",
    "    content = f.read()\n",
    "    \n",
    "with open('hightemp_python.txt', 'w') as f:\n",
    "    f.write(content.replace('\\t', ' '))"
   ]
  },
  {
   "cell_type": "code",
   "execution_count": 17,
   "metadata": {},
   "outputs": [],
   "source": [
    "# Unix command\n",
    "!sed 's/\\t/ /g' hightemp.txt > hightemp_sed.txt"
   ]
  },
  {
   "cell_type": "code",
   "execution_count": 18,
   "metadata": {},
   "outputs": [],
   "source": [
    "# Unix command\n",
    "!cat hightemp.txt | tr '\\t' ' ' > hightemp_tr.txt"
   ]
  },
  {
   "cell_type": "code",
   "execution_count": 23,
   "metadata": {},
   "outputs": [],
   "source": [
    "# Unix command\n",
    "!expand -t1 hightemp.txt > hightemp_expand.txt"
   ]
  },
  {
   "cell_type": "markdown",
   "metadata": {},
   "source": [
    "# 12. Lưu cột 1 vào file col1.txt, cột 2 vào file col2.txt\n",
    "\n",
    "Trích xuất nội dung trong cột 1, cột 2 và lưu vào các file tương ứng: col1.txt và col2.txt. Thử thực hiện công việc chỉ dùng lệnh cut trong unix."
   ]
  },
  {
   "cell_type": "code",
   "execution_count": 25,
   "metadata": {},
   "outputs": [],
   "source": [
    "# Python\n",
    "f_col1 = open('col1.txt', 'w')\n",
    "f_col2 = open('col2.txt', 'w')\n",
    "\n",
    "with open('hightemp.txt', 'r') as f:\n",
    "    lines = f.readlines()\n",
    "    \n",
    "for line in lines:\n",
    "    tokens = line.split('\\t')\n",
    "    f_col1.write(tokens[0] + '\\n')\n",
    "    f_col2.write(tokens[1] + '\\n')\n",
    "    \n",
    "f_col1.close()\n",
    "f_col2.close()"
   ]
  },
  {
   "cell_type": "code",
   "execution_count": 32,
   "metadata": {},
   "outputs": [],
   "source": [
    "# Unix command\n",
    "!cut -f 1 hightemp.txt > col1_unix.txt\n",
    "!cut -f 2 hightemp.txt > col2_unix.txt"
   ]
  },
  {
   "cell_type": "markdown",
   "metadata": {},
   "source": [
    "# 13. Trộn hai file col1.txt và col2.txt\n",
    "\n",
    "Kết hợp nội dung trong 2 file col1.txt và col2.txt để tạo thành một file mới có nội dung giống với cột 1 và cột 2 trong file ban đầu (các cột cách nhau bởi ký tự tab). Sử dụng lệnh paste để thực hiện bài tập và xác nhận kết quả của chương trình bạn viết."
   ]
  },
  {
   "cell_type": "code",
   "execution_count": 35,
   "metadata": {},
   "outputs": [],
   "source": [
    "# Python\n",
    "with open('col1.txt', 'r') as f:\n",
    "    col1_lines = f.readlines()\n",
    "with open('col2.txt', 'r') as f:\n",
    "    col2_lines = f.readlines()\n",
    "    \n",
    "with open('ex13_file.txt', 'w') as f:\n",
    "    for i in range(len(col1_lines)):\n",
    "        f.write(col1_lines[i].strip() + '\\t' + col2_lines[i].strip() + '\\n')"
   ]
  },
  {
   "cell_type": "code",
   "execution_count": 39,
   "metadata": {},
   "outputs": [],
   "source": [
    "# Unix command\n",
    "!paste col1_unix.txt col2_unix.txt > fex13_file_unix.txt"
   ]
  },
  {
   "cell_type": "markdown",
   "metadata": {},
   "source": [
    "# 14. Trích xuất ra N hàng đầu tiên của file\n",
    "Viết chương trình trích xuất ra N hàng đầu tiên của file. Biến số dạng dòng lệnh là số tự nhiên N. Sử dụng lệnh head trong unix để thực hiện công việc."
   ]
  },
  {
   "cell_type": "code",
   "execution_count": 45,
   "metadata": {},
   "outputs": [
    {
     "name": "stdout",
     "output_type": "stream",
     "text": [
      "高知県\t江川崎\t41\t2013-08-12\n",
      "埼玉県\t熊谷\t40.9\t2007-08-16\n",
      "岐阜県\t多治見\t40.9\t2007-08-16\n",
      "山形県\t山形\t40.8\t1933-07-25\n",
      "山梨県\t甲府\t40.7\t2013-08-10\n"
     ]
    }
   ],
   "source": [
    "# Python\n",
    "with open('hightemp.txt', 'r') as f:\n",
    "    lines = f.readlines()\n",
    "\n",
    "for l in lines[:5]:\n",
    "    print(l.strip())"
   ]
  },
  {
   "cell_type": "code",
   "execution_count": 42,
   "metadata": {},
   "outputs": [
    {
     "name": "stdout",
     "output_type": "stream",
     "text": [
      "高知県\t江川崎\t41\t2013-08-12\n",
      "埼玉県\t熊谷\t40.9\t2007-08-16\n",
      "岐阜県\t多治見\t40.9\t2007-08-16\n",
      "山形県\t山形\t40.8\t1933-07-25\n",
      "山梨県\t甲府\t40.7\t2013-08-10\n"
     ]
    }
   ],
   "source": [
    "# Unix code\n",
    "!head --lines 5 hightemp.txt"
   ]
  },
  {
   "cell_type": "markdown",
   "metadata": {},
   "source": [
    "# 15. Trích xuất ra N hàng cuối cùng của file\n",
    "Viết chương trình trích xuất ra N hàng cuối cùng của file. Chương trình nhận đầu vào từ dòng lệnh là số tự nhiên N. Sử dụng lệnh tail trong unix để thực hiện công việc."
   ]
  },
  {
   "cell_type": "code",
   "execution_count": 46,
   "metadata": {},
   "outputs": [
    {
     "name": "stdout",
     "output_type": "stream",
     "text": [
      "埼玉県\t鳩山\t39.9\t1997-07-05\n",
      "大阪府\t豊中\t39.9\t1994-08-08\n",
      "山梨県\t大月\t39.9\t1990-07-19\n",
      "山形県\t鶴岡\t39.9\t1978-08-03\n",
      "愛知県\t名古屋\t39.9\t1942-08-02\n"
     ]
    }
   ],
   "source": [
    "# Python\n",
    "with open('hightemp.txt', 'r') as f:\n",
    "    lines = f.readlines()\n",
    "\n",
    "for l in lines[-5:]:\n",
    "    print(l.strip())"
   ]
  },
  {
   "cell_type": "code",
   "execution_count": 47,
   "metadata": {},
   "outputs": [
    {
     "name": "stdout",
     "output_type": "stream",
     "text": [
      "埼玉県\t鳩山\t39.9\t1997-07-05\n",
      "大阪府\t豊中\t39.9\t1994-08-08\n",
      "山梨県\t大月\t39.9\t1990-07-19\n",
      "山形県\t鶴岡\t39.9\t1978-08-03\n",
      "愛知県\t名古屋\t39.9\t1942-08-02\n"
     ]
    }
   ],
   "source": [
    "# Unix code\n",
    "!tail --lines 5 hightemp.txt"
   ]
  },
  {
   "cell_type": "markdown",
   "metadata": {},
   "source": [
    "# 16. Chia file thành N phần\n",
    "Chia file thành các files nhỏ với N lines mỗi file (đơn vị là các hàng trong file). Chương trình nhận đầu vào từ dòng lệnh là số tự nhiên N. Sử dụng lệnh split để thực hiện công việc (split -l N).\n",
    "\n",
    "Sau đó, cải tiến chương trình để chia file thành thành N phần bằng nhau (thay vì N lines mỗi file)."
   ]
  },
  {
   "cell_type": "code",
   "execution_count": 70,
   "metadata": {},
   "outputs": [],
   "source": [
    "# Python\n",
    "# Subfile with N lines\n",
    "with open('hightemp.txt', 'r') as f:\n",
    "    lines = f.readlines()\n",
    "\n",
    "N_lines = 5\n",
    "i = 0\n",
    "while i*N_lines < len(lines):\n",
    "    with open('ex16_' + str(i) + '.txt', 'w') as f:\n",
    "        for l in lines[i*N_lines:i*N_lines+N_lines]:\n",
    "            f.write(l)\n",
    "    i += 1"
   ]
  },
  {
   "cell_type": "code",
   "execution_count": 69,
   "metadata": {},
   "outputs": [
    {
     "name": "stdout",
     "output_type": "stream",
     "text": [
      "creating file 'ex16_linux_00'\n",
      "creating file 'ex16_linux_01'\n",
      "creating file 'ex16_linux_02'\n",
      "creating file 'ex16_linux_03'\n",
      "creating file 'ex16_linux_04'\n"
     ]
    }
   ],
   "source": [
    "# Unix command\n",
    "# Subfile with N lines\n",
    "!split -d -l 5 hightemp.txt ex16_linux_ --verbose"
   ]
  },
  {
   "cell_type": "code",
   "execution_count": 71,
   "metadata": {},
   "outputs": [],
   "source": [
    "# Python\n",
    "# N subfiles\n",
    "with open('hightemp.txt', 'r') as f:\n",
    "    line = f.read()\n",
    "\n",
    "N_files = 7\n",
    "N_chars = (len(line) + N_files - 1)//N_files\n",
    "i = 0\n",
    "while i*N_chars < len(line):\n",
    "    with open('ex16_adv_' + str(i) + '.txt', 'w') as f:\n",
    "        for l in line[i*N_chars:i*N_chars+N_chars]:\n",
    "            f.write(l)\n",
    "    i += 1"
   ]
  },
  {
   "cell_type": "code",
   "execution_count": 68,
   "metadata": {},
   "outputs": [
    {
     "name": "stdout",
     "output_type": "stream",
     "text": [
      "creating file 'ex16_linux_adv_00'\n",
      "creating file 'ex16_linux_adv_01'\n",
      "creating file 'ex16_linux_adv_02'\n",
      "creating file 'ex16_linux_adv_03'\n",
      "creating file 'ex16_linux_adv_04'\n",
      "creating file 'ex16_linux_adv_05'\n",
      "creating file 'ex16_linux_adv_06'\n"
     ]
    }
   ],
   "source": [
    "# Unix command\n",
    "!split -d -n7 hightemp.txt ex16_linux_adv_ --verbose"
   ]
  },
  {
   "cell_type": "markdown",
   "metadata": {},
   "source": [
    "# 17. Đưa ra các xâu ký tự duy nhất (unique) trong cột 1\n",
    "\n",
    "Đưa ra các xâu ký tự duy nhất trong cột 1 của file. Sử dụng lệnh cut, sort, uniq để thực hiện nhiệm vụ."
   ]
  },
  {
   "cell_type": "code",
   "execution_count": 3,
   "metadata": {},
   "outputs": [
    {
     "data": {
      "text/plain": [
       "{'千葉県',\n",
       " '和歌山県',\n",
       " '埼玉県',\n",
       " '大阪府',\n",
       " '山形県',\n",
       " '山梨県',\n",
       " '岐阜県',\n",
       " '愛媛県',\n",
       " '愛知県',\n",
       " '群馬県',\n",
       " '静岡県',\n",
       " '高知県'}"
      ]
     },
     "execution_count": 3,
     "metadata": {},
     "output_type": "execute_result"
    }
   ],
   "source": [
    "# Python\n",
    "with open('hightemp.txt', 'r') as f:\n",
    "    lines = f.readlines()\n",
    "\n",
    "col1 = [line.split()[0] for line in lines]\n",
    "\n",
    "set(col1)"
   ]
  },
  {
   "cell_type": "code",
   "execution_count": 2,
   "metadata": {},
   "outputs": [
    {
     "name": "stdout",
     "output_type": "stream",
     "text": [
      "千葉県\n",
      "和歌山県\n",
      "埼玉県\n",
      "大阪府\n",
      "山形県\n",
      "山梨県\n",
      "岐阜県\n",
      "愛媛県\n",
      "愛知県\n",
      "群馬県\n",
      "静岡県\n",
      "高知県\n"
     ]
    }
   ],
   "source": [
    "# Unix command\n",
    "!cut -f 1 hightemp.txt | sort | uniq"
   ]
  },
  {
   "cell_type": "markdown",
   "metadata": {},
   "source": [
    "# 18. Sắp xếp các hàng theo thứ tự giảm dần của giá trị (numeric value) của cột thứ 3\n",
    "\n",
    "Viết chương trình thực hiện nhiệm vụ trên. Dùng lệnh sort để xác nhận (trong bài tập này, kết quả của chương trình của bạn với lệnh sort có thể khác nhau do có thể có các giá trị giống nhau trong cột thứ 3)."
   ]
  },
  {
   "cell_type": "code",
   "execution_count": 18,
   "metadata": {},
   "outputs": [
    {
     "data": {
      "text/html": [
       "<div>\n",
       "<style scoped>\n",
       "    .dataframe tbody tr th:only-of-type {\n",
       "        vertical-align: middle;\n",
       "    }\n",
       "\n",
       "    .dataframe tbody tr th {\n",
       "        vertical-align: top;\n",
       "    }\n",
       "\n",
       "    .dataframe thead th {\n",
       "        text-align: right;\n",
       "    }\n",
       "</style>\n",
       "<table border=\"1\" class=\"dataframe\">\n",
       "  <thead>\n",
       "    <tr style=\"text-align: right;\">\n",
       "      <th></th>\n",
       "      <th>0</th>\n",
       "      <th>1</th>\n",
       "      <th>2</th>\n",
       "      <th>3</th>\n",
       "    </tr>\n",
       "  </thead>\n",
       "  <tbody>\n",
       "    <tr>\n",
       "      <th>23</th>\n",
       "      <td>愛知県</td>\n",
       "      <td>名古屋</td>\n",
       "      <td>39.9</td>\n",
       "      <td>1942-08-02</td>\n",
       "    </tr>\n",
       "    <tr>\n",
       "      <th>21</th>\n",
       "      <td>山梨県</td>\n",
       "      <td>大月</td>\n",
       "      <td>39.9</td>\n",
       "      <td>1990-07-19</td>\n",
       "    </tr>\n",
       "    <tr>\n",
       "      <th>20</th>\n",
       "      <td>大阪府</td>\n",
       "      <td>豊中</td>\n",
       "      <td>39.9</td>\n",
       "      <td>1994-08-08</td>\n",
       "    </tr>\n",
       "    <tr>\n",
       "      <th>19</th>\n",
       "      <td>埼玉県</td>\n",
       "      <td>鳩山</td>\n",
       "      <td>39.9</td>\n",
       "      <td>1997-07-05</td>\n",
       "    </tr>\n",
       "    <tr>\n",
       "      <th>18</th>\n",
       "      <td>千葉県</td>\n",
       "      <td>茂原</td>\n",
       "      <td>39.9</td>\n",
       "      <td>2013-08-11</td>\n",
       "    </tr>\n",
       "    <tr>\n",
       "      <th>22</th>\n",
       "      <td>山形県</td>\n",
       "      <td>鶴岡</td>\n",
       "      <td>39.9</td>\n",
       "      <td>1978-08-03</td>\n",
       "    </tr>\n",
       "    <tr>\n",
       "      <th>17</th>\n",
       "      <td>群馬県</td>\n",
       "      <td>前橋</td>\n",
       "      <td>40.0</td>\n",
       "      <td>2001-07-24</td>\n",
       "    </tr>\n",
       "    <tr>\n",
       "      <th>16</th>\n",
       "      <td>岐阜県</td>\n",
       "      <td>美濃</td>\n",
       "      <td>40.0</td>\n",
       "      <td>2007-08-16</td>\n",
       "    </tr>\n",
       "    <tr>\n",
       "      <th>15</th>\n",
       "      <td>山形県</td>\n",
       "      <td>酒田</td>\n",
       "      <td>40.1</td>\n",
       "      <td>1978-08-03</td>\n",
       "    </tr>\n",
       "    <tr>\n",
       "      <th>14</th>\n",
       "      <td>愛媛県</td>\n",
       "      <td>宇和島</td>\n",
       "      <td>40.2</td>\n",
       "      <td>1927-07-22</td>\n",
       "    </tr>\n",
       "    <tr>\n",
       "      <th>13</th>\n",
       "      <td>静岡県</td>\n",
       "      <td>佐久間</td>\n",
       "      <td>40.2</td>\n",
       "      <td>2001-07-24</td>\n",
       "    </tr>\n",
       "    <tr>\n",
       "      <th>12</th>\n",
       "      <td>千葉県</td>\n",
       "      <td>牛久</td>\n",
       "      <td>40.2</td>\n",
       "      <td>2004-07-20</td>\n",
       "    </tr>\n",
       "    <tr>\n",
       "      <th>11</th>\n",
       "      <td>愛知県</td>\n",
       "      <td>愛西</td>\n",
       "      <td>40.3</td>\n",
       "      <td>1994-08-05</td>\n",
       "    </tr>\n",
       "    <tr>\n",
       "      <th>9</th>\n",
       "      <td>群馬県</td>\n",
       "      <td>館林</td>\n",
       "      <td>40.3</td>\n",
       "      <td>2007-08-16</td>\n",
       "    </tr>\n",
       "    <tr>\n",
       "      <th>10</th>\n",
       "      <td>群馬県</td>\n",
       "      <td>上里見</td>\n",
       "      <td>40.3</td>\n",
       "      <td>1998-07-04</td>\n",
       "    </tr>\n",
       "    <tr>\n",
       "      <th>8</th>\n",
       "      <td>埼玉県</td>\n",
       "      <td>越谷</td>\n",
       "      <td>40.4</td>\n",
       "      <td>2007-08-16</td>\n",
       "    </tr>\n",
       "    <tr>\n",
       "      <th>7</th>\n",
       "      <td>山梨県</td>\n",
       "      <td>勝沼</td>\n",
       "      <td>40.5</td>\n",
       "      <td>2013-08-10</td>\n",
       "    </tr>\n",
       "    <tr>\n",
       "      <th>6</th>\n",
       "      <td>静岡県</td>\n",
       "      <td>天竜</td>\n",
       "      <td>40.6</td>\n",
       "      <td>1994-08-04</td>\n",
       "    </tr>\n",
       "    <tr>\n",
       "      <th>5</th>\n",
       "      <td>和歌山県</td>\n",
       "      <td>かつらぎ</td>\n",
       "      <td>40.6</td>\n",
       "      <td>1994-08-08</td>\n",
       "    </tr>\n",
       "    <tr>\n",
       "      <th>4</th>\n",
       "      <td>山梨県</td>\n",
       "      <td>甲府</td>\n",
       "      <td>40.7</td>\n",
       "      <td>2013-08-10</td>\n",
       "    </tr>\n",
       "    <tr>\n",
       "      <th>3</th>\n",
       "      <td>山形県</td>\n",
       "      <td>山形</td>\n",
       "      <td>40.8</td>\n",
       "      <td>1933-07-25</td>\n",
       "    </tr>\n",
       "    <tr>\n",
       "      <th>2</th>\n",
       "      <td>岐阜県</td>\n",
       "      <td>多治見</td>\n",
       "      <td>40.9</td>\n",
       "      <td>2007-08-16</td>\n",
       "    </tr>\n",
       "    <tr>\n",
       "      <th>1</th>\n",
       "      <td>埼玉県</td>\n",
       "      <td>熊谷</td>\n",
       "      <td>40.9</td>\n",
       "      <td>2007-08-16</td>\n",
       "    </tr>\n",
       "    <tr>\n",
       "      <th>0</th>\n",
       "      <td>高知県</td>\n",
       "      <td>江川崎</td>\n",
       "      <td>41.0</td>\n",
       "      <td>2013-08-12</td>\n",
       "    </tr>\n",
       "  </tbody>\n",
       "</table>\n",
       "</div>"
      ],
      "text/plain": [
       "       0     1     2           3\n",
       "23   愛知県   名古屋  39.9  1942-08-02\n",
       "21   山梨県    大月  39.9  1990-07-19\n",
       "20   大阪府    豊中  39.9  1994-08-08\n",
       "19   埼玉県    鳩山  39.9  1997-07-05\n",
       "18   千葉県    茂原  39.9  2013-08-11\n",
       "22   山形県    鶴岡  39.9  1978-08-03\n",
       "17   群馬県    前橋  40.0  2001-07-24\n",
       "16   岐阜県    美濃  40.0  2007-08-16\n",
       "15   山形県    酒田  40.1  1978-08-03\n",
       "14   愛媛県   宇和島  40.2  1927-07-22\n",
       "13   静岡県   佐久間  40.2  2001-07-24\n",
       "12   千葉県    牛久  40.2  2004-07-20\n",
       "11   愛知県    愛西  40.3  1994-08-05\n",
       "9    群馬県    館林  40.3  2007-08-16\n",
       "10   群馬県   上里見  40.3  1998-07-04\n",
       "8    埼玉県    越谷  40.4  2007-08-16\n",
       "7    山梨県    勝沼  40.5  2013-08-10\n",
       "6    静岡県    天竜  40.6  1994-08-04\n",
       "5   和歌山県  かつらぎ  40.6  1994-08-08\n",
       "4    山梨県    甲府  40.7  2013-08-10\n",
       "3    山形県    山形  40.8  1933-07-25\n",
       "2    岐阜県   多治見  40.9  2007-08-16\n",
       "1    埼玉県    熊谷  40.9  2007-08-16\n",
       "0    高知県   江川崎  41.0  2013-08-12"
      ]
     },
     "execution_count": 18,
     "metadata": {},
     "output_type": "execute_result"
    }
   ],
   "source": [
    "# Python\n",
    "import pandas as pd\n",
    "\n",
    "df = pd.read_csv('hightemp.txt', sep='\\t', header=None)\n",
    "\n",
    "df.sort_values(2)"
   ]
  },
  {
   "cell_type": "code",
   "execution_count": 4,
   "metadata": {},
   "outputs": [
    {
     "name": "stdout",
     "output_type": "stream",
     "text": [
      "愛知県\t名古屋\t39.9\t1942-08-02\n",
      "山形県\t鶴岡\t39.9\t1978-08-03\n",
      "山梨県\t大月\t39.9\t1990-07-19\n",
      "大阪府\t豊中\t39.9\t1994-08-08\n",
      "埼玉県\t鳩山\t39.9\t1997-07-05\n",
      "千葉県\t茂原\t39.9\t2013-08-11\n",
      "群馬県\t前橋\t40\t2001-07-24\n",
      "岐阜県\t美濃\t40\t2007-08-16\n",
      "山形県\t酒田\t40.1\t1978-08-03\n",
      "愛媛県\t宇和島\t40.2\t1927-07-22\n",
      "静岡県\t佐久間\t40.2\t2001-07-24\n",
      "千葉県\t牛久\t40.2\t2004-07-20\n",
      "愛知県\t愛西\t40.3\t1994-08-05\n",
      "群馬県\t上里見\t40.3\t1998-07-04\n",
      "群馬県\t館林\t40.3\t2007-08-16\n",
      "埼玉県\t越谷\t40.4\t2007-08-16\n",
      "山梨県\t勝沼\t40.5\t2013-08-10\n",
      "静岡県\t天竜\t40.6\t1994-08-04\n",
      "和歌山県\tかつらぎ\t40.6\t1994-08-08\n",
      "山梨県\t甲府\t40.7\t2013-08-10\n",
      "山形県\t山形\t40.8\t1933-07-25\n",
      "埼玉県\t熊谷\t40.9\t2007-08-16\n",
      "岐阜県\t多治見\t40.9\t2007-08-16\n",
      "高知県\t江川崎\t41\t2013-08-12\n"
     ]
    }
   ],
   "source": [
    "# Unix command\n",
    "!sort -k 3 hightemp.txt"
   ]
  },
  {
   "cell_type": "markdown",
   "metadata": {},
   "source": [
    "# 19. Sắp xếp theo tần suất xuất hiện\n",
    "\n",
    "Đưa ra tần suất xuất hiện của các giá trị trong cột 1; sắp xếp các giá trị trong cột 1 theo thứ tự từ cao đến thấp của tần suất xuất hiện. Chỉ dùng lệnh cut, uniq, sort để thực hiện nhiệm vụ."
   ]
  },
  {
   "cell_type": "code",
   "execution_count": 7,
   "metadata": {},
   "outputs": [
    {
     "data": {
      "text/plain": [
       "[('埼玉県', 3),\n",
       " ('山形県', 3),\n",
       " ('山梨県', 3),\n",
       " ('群馬県', 3),\n",
       " ('岐阜県', 2),\n",
       " ('静岡県', 2),\n",
       " ('愛知県', 2),\n",
       " ('千葉県', 2),\n",
       " ('高知県', 1),\n",
       " ('和歌山県', 1),\n",
       " ('愛媛県', 1),\n",
       " ('大阪府', 1)]"
      ]
     },
     "execution_count": 7,
     "metadata": {},
     "output_type": "execute_result"
    }
   ],
   "source": [
    "# Python\n",
    "from collections import Counter\n",
    "\n",
    "with open('hightemp.txt', 'r') as f:\n",
    "    lines = f.readlines()\n",
    "\n",
    "col1 = [line.split()[0] for line in lines]\n",
    "\n",
    "col1_count = Counter(col1)\n",
    "\n",
    "col1_count.most_common()"
   ]
  },
  {
   "cell_type": "code",
   "execution_count": 8,
   "metadata": {},
   "outputs": [
    {
     "name": "stdout",
     "output_type": "stream",
     "text": [
      "      3 群馬県\n",
      "      3 山梨県\n",
      "      3 山形県\n",
      "      3 埼玉県\n",
      "      2 静岡県\n",
      "      2 愛知県\n",
      "      2 岐阜県\n",
      "      2 千葉県\n",
      "      1 高知県\n",
      "      1 愛媛県\n",
      "      1 大阪府\n",
      "      1 和歌山県\n"
     ]
    }
   ],
   "source": [
    "# Unix command\n",
    "!cut -f 1 hightemp.txt | sort | uniq -c | sort -k 3 -nr"
   ]
  },
  {
   "cell_type": "code",
   "execution_count": null,
   "metadata": {},
   "outputs": [],
   "source": []
  }
 ],
 "metadata": {
  "kernelspec": {
   "display_name": "Python 3",
   "language": "python",
   "name": "python3"
  },
  "language_info": {
   "codemirror_mode": {
    "name": "ipython",
    "version": 3
   },
   "file_extension": ".py",
   "mimetype": "text/x-python",
   "name": "python",
   "nbconvert_exporter": "python",
   "pygments_lexer": "ipython3",
   "version": "3.6.8"
  }
 },
 "nbformat": 4,
 "nbformat_minor": 4
}
