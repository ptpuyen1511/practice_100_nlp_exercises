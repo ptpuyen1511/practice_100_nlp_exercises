{
 "cells": [
  {
   "cell_type": "markdown",
   "metadata": {},
   "source": [
    "# Chương 2: Các lệnh cơ bản trên môi trường Unix\n",
    "\n",
    "Các bài tập trong chương này sử dụng dữ liệu trong file hightemp.txt. File này bao gồm các bản ghi nhiệt độ cao nhất ở Nhật Bản. Mỗi bản ghi bao gồm 3 cột \"Tỉnh\", \"Địa điểm\", \"Nhiệt độ\" (độ C), và ngày tháng đo. Các cột dữ liệu được phân cách bằng ký tự tab. Viết các chương trình thực hiện các nhiệm vụ trong các bài tập dưới đây. Sau đó, chỉ sử dụng các lệnh trong unix để thực hiện các nhiệm vụ đó và xác nhận xem kết quả của chương trình bạn viết có giống với kết quả các lệnh unix đưa ra hay không."
   ]
  },
  {
   "cell_type": "markdown",
   "metadata": {},
   "source": [
    "# 10. Đếm số dòng trong file\n",
    "Đếm số dòng trong file. Xác nhận kết quả bằng lệnh wc trong unix."
   ]
  },
  {
   "cell_type": "code",
   "execution_count": 33,
   "metadata": {},
   "outputs": [
    {
     "data": {
      "text/plain": [
       "24"
      ]
     },
     "execution_count": 33,
     "metadata": {},
     "output_type": "execute_result"
    }
   ],
   "source": [
    "# Python code\n",
    "num_lines = sum(1 for line in open('hightemp.txt'))\n",
    "num_lines"
   ]
  },
  {
   "cell_type": "code",
   "execution_count": 5,
   "metadata": {},
   "outputs": [
    {
     "name": "stdout",
     "output_type": "stream",
     "text": [
      "24 hightemp.txt\n"
     ]
    }
   ],
   "source": [
    "# unix command\n",
    "!wc -l hightemp.txt"
   ]
  },
  {
   "cell_type": "markdown",
   "metadata": {},
   "source": [
    "# 11. Biến đổi các ký tự tab thành space\n",
    "\n",
    "Chuyễn mỗi ký tự tab thành ký tự space. Xác nhận kết quả lần lượt bằng các lệnh sed, tr, và expand."
   ]
  },
  {
   "cell_type": "code",
   "execution_count": 24,
   "metadata": {},
   "outputs": [],
   "source": [
    "# Python code\n",
    "with open('hightemp.txt', 'r') as f:\n",
    "    content = f.read()\n",
    "    \n",
    "with open('hightemp_python.txt', 'w') as f:\n",
    "    f.write(content.replace('\\t', ' '))"
   ]
  },
  {
   "cell_type": "code",
   "execution_count": 17,
   "metadata": {},
   "outputs": [],
   "source": [
    "# Unix command\n",
    "!sed 's/\\t/ /g' hightemp.txt > hightemp_sed.txt"
   ]
  },
  {
   "cell_type": "code",
   "execution_count": 18,
   "metadata": {},
   "outputs": [],
   "source": [
    "# Unix command\n",
    "!cat hightemp.txt | tr '\\t' ' ' > hightemp_tr.txt"
   ]
  },
  {
   "cell_type": "code",
   "execution_count": 23,
   "metadata": {},
   "outputs": [],
   "source": [
    "# Unix command\n",
    "!expand -t1 hightemp.txt > hightemp_expand.txt"
   ]
  },
  {
   "cell_type": "markdown",
   "metadata": {},
   "source": [
    "# 12. Lưu cột 1 vào file col1.txt, cột 2 vào file col2.txt\n",
    "\n",
    "Trích xuất nội dung trong cột 1, cột 2 và lưu vào các file tương ứng: col1.txt và col2.txt. Thử thực hiện công việc chỉ dùng lệnh cut trong unix."
   ]
  },
  {
   "cell_type": "code",
   "execution_count": 25,
   "metadata": {},
   "outputs": [],
   "source": [
    "# Python\n",
    "f_col1 = open('col1.txt', 'w')\n",
    "f_col2 = open('col2.txt', 'w')\n",
    "\n",
    "with open('hightemp.txt', 'r') as f:\n",
    "    lines = f.readlines()\n",
    "    \n",
    "for line in lines:\n",
    "    tokens = line.split('\\t')\n",
    "    f_col1.write(tokens[0] + '\\n')\n",
    "    f_col2.write(tokens[1] + '\\n')\n",
    "    \n",
    "f_col1.close()\n",
    "f_col2.close()"
   ]
  },
  {
   "cell_type": "code",
   "execution_count": 32,
   "metadata": {},
   "outputs": [],
   "source": [
    "# Unix command\n",
    "!cut -f 1 hightemp.txt > col1_unix.txt\n",
    "!cut -f 2 hightemp.txt > col2_unix.txt"
   ]
  },
  {
   "cell_type": "markdown",
   "metadata": {},
   "source": [
    "# 13. Trộn hai file col1.txt và col2.txt\n",
    "\n",
    "Kết hợp nội dung trong 2 file col1.txt và col2.txt để tạo thành một file mới có nội dung giống với cột 1 và cột 2 trong file ban đầu (các cột cách nhau bởi ký tự tab). Sử dụng lệnh paste để thực hiện bài tập và xác nhận kết quả của chương trình bạn viết."
   ]
  },
  {
   "cell_type": "code",
   "execution_count": 35,
   "metadata": {},
   "outputs": [],
   "source": [
    "# Python\n",
    "with open('col1.txt', 'r') as f:\n",
    "    col1_lines = f.readlines()\n",
    "with open('col2.txt', 'r') as f:\n",
    "    col2_lines = f.readlines()\n",
    "    \n",
    "with open('ex13_file.txt', 'w') as f:\n",
    "    for i in range(len(col1_lines)):\n",
    "        f.write(col1_lines[i].strip() + '\\t' + col2_lines[i].strip() + '\\n')"
   ]
  },
  {
   "cell_type": "code",
   "execution_count": 39,
   "metadata": {},
   "outputs": [],
   "source": [
    "# Unix command\n",
    "!paste col1_unix.txt col2_unix.txt > fex13_file_unix.txt"
   ]
  },
  {
   "cell_type": "markdown",
   "metadata": {},
   "source": [
    "# 14. Trích xuất ra N hàng đầu tiên của file\n",
    "Viết chương trình trích xuất ra N hàng đầu tiên của file. Biến số dạng dòng lệnh là số tự nhiên N. Sử dụng lệnh head trong unix để thực hiện công việc."
   ]
  },
  {
   "cell_type": "code",
   "execution_count": 45,
   "metadata": {},
   "outputs": [
    {
     "name": "stdout",
     "output_type": "stream",
     "text": [
      "高知県\t江川崎\t41\t2013-08-12\n",
      "埼玉県\t熊谷\t40.9\t2007-08-16\n",
      "岐阜県\t多治見\t40.9\t2007-08-16\n",
      "山形県\t山形\t40.8\t1933-07-25\n",
      "山梨県\t甲府\t40.7\t2013-08-10\n"
     ]
    }
   ],
   "source": [
    "# Python\n",
    "with open('hightemp.txt', 'r') as f:\n",
    "    lines = f.readlines()\n",
    "\n",
    "for l in lines[:5]:\n",
    "    print(l.strip())"
   ]
  },
  {
   "cell_type": "code",
   "execution_count": 42,
   "metadata": {},
   "outputs": [
    {
     "name": "stdout",
     "output_type": "stream",
     "text": [
      "高知県\t江川崎\t41\t2013-08-12\n",
      "埼玉県\t熊谷\t40.9\t2007-08-16\n",
      "岐阜県\t多治見\t40.9\t2007-08-16\n",
      "山形県\t山形\t40.8\t1933-07-25\n",
      "山梨県\t甲府\t40.7\t2013-08-10\n"
     ]
    }
   ],
   "source": [
    "# Unix code\n",
    "!head --lines 5 hightemp.txt"
   ]
  },
  {
   "cell_type": "markdown",
   "metadata": {},
   "source": [
    "# 15. Trích xuất ra N hàng cuối cùng của file\n",
    "Viết chương trình trích xuất ra N hàng cuối cùng của file. Chương trình nhận đầu vào từ dòng lệnh là số tự nhiên N. Sử dụng lệnh tail trong unix để thực hiện công việc."
   ]
  },
  {
   "cell_type": "code",
   "execution_count": 46,
   "metadata": {},
   "outputs": [
    {
     "name": "stdout",
     "output_type": "stream",
     "text": [
      "埼玉県\t鳩山\t39.9\t1997-07-05\n",
      "大阪府\t豊中\t39.9\t1994-08-08\n",
      "山梨県\t大月\t39.9\t1990-07-19\n",
      "山形県\t鶴岡\t39.9\t1978-08-03\n",
      "愛知県\t名古屋\t39.9\t1942-08-02\n"
     ]
    }
   ],
   "source": [
    "# Python\n",
    "with open('hightemp.txt', 'r') as f:\n",
    "    lines = f.readlines()\n",
    "\n",
    "for l in lines[-5:]:\n",
    "    print(l.strip())"
   ]
  },
  {
   "cell_type": "code",
   "execution_count": 47,
   "metadata": {},
   "outputs": [
    {
     "name": "stdout",
     "output_type": "stream",
     "text": [
      "埼玉県\t鳩山\t39.9\t1997-07-05\n",
      "大阪府\t豊中\t39.9\t1994-08-08\n",
      "山梨県\t大月\t39.9\t1990-07-19\n",
      "山形県\t鶴岡\t39.9\t1978-08-03\n",
      "愛知県\t名古屋\t39.9\t1942-08-02\n"
     ]
    }
   ],
   "source": [
    "# Unix code\n",
    "!tail --lines 5 hightemp.txt"
   ]
  },
  {
   "cell_type": "markdown",
   "metadata": {},
   "source": [
    "# 16. Chia file thành N phần\n",
    "Chia file thành các files nhỏ với N lines mỗi file (đơn vị là các hàng trong file). Chương trình nhận đầu vào từ dòng lệnh là số tự nhiên N. Sử dụng lệnh split để thực hiện công việc (split -l N).\n",
    "\n",
    "Sau đó, cải tiến chương trình để chia file thành thành N phần bằng nhau (thay vì N lines mỗi file)."
   ]
  },
  {
   "cell_type": "code",
   "execution_count": 70,
   "metadata": {},
   "outputs": [],
   "source": [
    "# Python\n",
    "# Subfile with N lines\n",
    "with open('hightemp.txt', 'r') as f:\n",
    "    lines = f.readlines()\n",
    "\n",
    "N_lines = 5\n",
    "i = 0\n",
    "while i*N_lines < len(lines):\n",
    "    with open('ex16_' + str(i) + '.txt', 'w') as f:\n",
    "        for l in lines[i*N_lines:i*N_lines+N_lines]:\n",
    "            f.write(l)\n",
    "    i += 1"
   ]
  },
  {
   "cell_type": "code",
   "execution_count": 69,
   "metadata": {},
   "outputs": [
    {
     "name": "stdout",
     "output_type": "stream",
     "text": [
      "creating file 'ex16_linux_00'\n",
      "creating file 'ex16_linux_01'\n",
      "creating file 'ex16_linux_02'\n",
      "creating file 'ex16_linux_03'\n",
      "creating file 'ex16_linux_04'\n"
     ]
    }
   ],
   "source": [
    "# Unix command\n",
    "# Subfile with N lines\n",
    "!split -d -l 5 hightemp.txt ex16_linux_ --verbose"
   ]
  },
  {
   "cell_type": "code",
   "execution_count": 71,
   "metadata": {},
   "outputs": [],
   "source": [
    "# Python\n",
    "# N subfiles\n",
    "with open('hightemp.txt', 'r') as f:\n",
    "    line = f.read()\n",
    "\n",
    "N_files = 7\n",
    "N_chars = (len(line) + N_files - 1)//N_files\n",
    "i = 0\n",
    "while i*N_chars < len(line):\n",
    "    with open('ex16_adv_' + str(i) + '.txt', 'w') as f:\n",
    "        for l in line[i*N_chars:i*N_chars+N_chars]:\n",
    "            f.write(l)\n",
    "    i += 1"
   ]
  },
  {
   "cell_type": "code",
   "execution_count": 68,
   "metadata": {},
   "outputs": [
    {
     "name": "stdout",
     "output_type": "stream",
     "text": [
      "creating file 'ex16_linux_adv_00'\n",
      "creating file 'ex16_linux_adv_01'\n",
      "creating file 'ex16_linux_adv_02'\n",
      "creating file 'ex16_linux_adv_03'\n",
      "creating file 'ex16_linux_adv_04'\n",
      "creating file 'ex16_linux_adv_05'\n",
      "creating file 'ex16_linux_adv_06'\n"
     ]
    }
   ],
   "source": [
    "!split -d -n7 hightemp.txt ex16_linux_adv_ --verbose"
   ]
  },
  {
   "cell_type": "code",
   "execution_count": null,
   "metadata": {},
   "outputs": [],
   "source": []
  }
 ],
 "metadata": {
  "kernelspec": {
   "display_name": "Python 3",
   "language": "python",
   "name": "python3"
  },
  "language_info": {
   "codemirror_mode": {
    "name": "ipython",
    "version": 3
   },
   "file_extension": ".py",
   "mimetype": "text/x-python",
   "name": "python",
   "nbconvert_exporter": "python",
   "pygments_lexer": "ipython3",
   "version": "3.7.6"
  }
 },
 "nbformat": 4,
 "nbformat_minor": 4
}
